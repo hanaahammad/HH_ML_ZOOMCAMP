{
 "cells": [
  {
   "cell_type": "markdown",
   "id": "f88eda85-f6c6-4a03-8ddb-2d47b518aaeb",
   "metadata": {},
   "source": [
    "## notes:\n",
    "\n",
    "https://knowmledge.com/2023/09/23/ml-zoomcamp-2023-machine-learning-for-regression-part-10/"
   ]
  },
  {
   "cell_type": "code",
   "execution_count": 1,
   "id": "fcdc96e7-3765-4bc6-83c3-37ad0ce6703d",
   "metadata": {},
   "outputs": [],
   "source": [
    "#!pip install seaborn"
   ]
  },
  {
   "cell_type": "code",
   "execution_count": null,
   "id": "109cd52e-2416-4751-b783-e65c062a8388",
   "metadata": {},
   "outputs": [],
   "source": []
  },
  {
   "cell_type": "code",
   "execution_count": null,
   "id": "b7d4a503-648a-4307-beda-93110e158a24",
   "metadata": {},
   "outputs": [],
   "source": []
  },
  {
   "cell_type": "code",
   "execution_count": 60,
   "id": "c6ac3947-fc14-4b63-8c97-db2b0075892b",
   "metadata": {},
   "outputs": [],
   "source": [
    "import pandas as pd\n",
    "import matplotlib.pyplot as plt\n",
    "import numpy as np\n",
    "import seaborn as sns"
   ]
  },
  {
   "cell_type": "code",
   "execution_count": 61,
   "id": "51d5b9e3-67f4-4123-b566-7a71e4d485b5",
   "metadata": {},
   "outputs": [],
   "source": [
    "df=pd.read_csv(\"car_fuel_efficiency.csv\")"
   ]
  },
  {
   "cell_type": "code",
   "execution_count": 62,
   "id": "1e72d453-3e9a-43bf-9d4a-efcb575dcf17",
   "metadata": {},
   "outputs": [
    {
     "data": {
      "text/plain": [
       "Index(['engine_displacement', 'num_cylinders', 'horsepower', 'vehicle_weight',\n",
       "       'acceleration', 'model_year', 'origin', 'fuel_type', 'drivetrain',\n",
       "       'num_doors', 'fuel_efficiency_mpg'],\n",
       "      dtype='object')"
      ]
     },
     "execution_count": 62,
     "metadata": {},
     "output_type": "execute_result"
    }
   ],
   "source": [
    "df.columns"
   ]
  },
  {
   "cell_type": "code",
   "execution_count": 63,
   "id": "493c1a0f-0806-4040-ae76-223b79cb717b",
   "metadata": {},
   "outputs": [
    {
     "data": {
      "text/plain": [
       "(9704, 11)"
      ]
     },
     "execution_count": 63,
     "metadata": {},
     "output_type": "execute_result"
    }
   ],
   "source": [
    "df.shape"
   ]
  },
  {
   "cell_type": "markdown",
   "id": "939b74a1-7878-4f0a-ae9b-83938a51b74a",
   "metadata": {},
   "source": [
    "## Preparing the dataset\n",
    "Use only the following columns:\n",
    "\n",
    "'engine_displacement', 'horsepower', 'vehicle_weight', 'model_year', 'fuel_efficiency_mpg'"
   ]
  },
  {
   "cell_type": "code",
   "execution_count": 64,
   "id": "4593c3d8-02c2-456e-8746-f9f8b716349f",
   "metadata": {},
   "outputs": [],
   "source": [
    "df2= df[['engine_displacement', 'horsepower', 'vehicle_weight', 'model_year', 'fuel_efficiency_mpg']]"
   ]
  },
  {
   "cell_type": "code",
   "execution_count": 65,
   "id": "7f3eb805-b241-4120-84b9-d2a5904602a5",
   "metadata": {},
   "outputs": [
    {
     "data": {
      "text/plain": [
       "(9704, 5)"
      ]
     },
     "execution_count": 65,
     "metadata": {},
     "output_type": "execute_result"
    }
   ],
   "source": [
    "df2.shape"
   ]
  },
  {
   "cell_type": "code",
   "execution_count": 66,
   "id": "f8716dc2-046f-4014-9875-1275c37e35df",
   "metadata": {},
   "outputs": [
    {
     "data": {
      "text/plain": [
       "Index(['engine_displacement', 'horsepower', 'vehicle_weight', 'model_year',\n",
       "       'fuel_efficiency_mpg'],\n",
       "      dtype='object')"
      ]
     },
     "execution_count": 66,
     "metadata": {},
     "output_type": "execute_result"
    }
   ],
   "source": [
    "df2.columns"
   ]
  },
  {
   "cell_type": "markdown",
   "id": "d752b328-38a4-4152-b89f-5b3c410696ec",
   "metadata": {},
   "source": [
    "## EDA\n",
    "Look at the fuel_efficiency_mpg variable. Does it have a long tail?"
   ]
  },
  {
   "cell_type": "code",
   "execution_count": 67,
   "id": "d7aa63ff-6c47-41ba-9370-e120043f625f",
   "metadata": {},
   "outputs": [
    {
     "data": {
      "image/png": "[encoded data removed]",
      "text/plain": [
       "<Figure size 640x480 with 1 Axes>"
      ]
     },
     "metadata": {},
     "output_type": "display_data"
    }
   ],
   "source": [
    "import matplotlib.pyplot as plt\n",
    "import numpy as np\n",
    "\n",
    "    #data = np.random.exponential(scale=2, size=1000) # Example: exponential distribution with a tail\n",
    "plt.hist(df['fuel_efficiency_mpg'], bins=30, edgecolor='black')\n",
    "plt.title('Histogram of Data')\n",
    "plt.xlabel('Value')\n",
    "plt.ylabel('Frequency')\n",
    "plt.show()"
   ]
  },
  {
   "cell_type": "markdown",
   "id": "46f7e97a-05b3-47df-a072-93324213b926",
   "metadata": {},
   "source": [
    "# Question 1\n",
    "There's one column with missing values. What is it?\n",
    "\n",
    "'engine_displacement'\n",
    "'horsepower'\n",
    "'vehicle_weight'\n",
    "'model_year'"
   ]
  },
  {
   "cell_type": "code",
   "execution_count": 68,
   "id": "e7f4db4c-ce68-46d3-a3d4-3cdb2cfcfbaa",
   "metadata": {},
   "outputs": [
    {
     "name": "stdout",
     "output_type": "stream",
     "text": [
      "Columns with missing values: ['horsepower']\n"
     ]
    }
   ],
   "source": [
    "columns_with_missing_values = df2.columns[df2.isna().any()].tolist()\n",
    "print(f\"Columns with missing values: {columns_with_missing_values}\")\n"
   ]
  },
  {
   "cell_type": "markdown",
   "id": "663d385b-5eeb-4b8f-b5e7-1d7e8edb4420",
   "metadata": {},
   "source": [
    "# Question 2\n",
    "What's the median (50% percentile) for variable 'horsepower'?\n",
    "\n",
    "49\n",
    "99\n",
    "149\n",
    "199"
   ]
  },
  {
   "cell_type": "code",
   "execution_count": 69,
   "id": "5e6e696d-a5d3-42fd-a5b5-205f798d2b76",
   "metadata": {},
   "outputs": [
    {
     "data": {
      "text/plain": [
       "count    8996.000000\n",
       "mean      149.657292\n",
       "std        29.879555\n",
       "min        37.000000\n",
       "25%       130.000000\n",
       "50%       149.000000\n",
       "75%       170.000000\n",
       "max       271.000000\n",
       "Name: horsepower, dtype: float64"
      ]
     },
     "execution_count": 69,
     "metadata": {},
     "output_type": "execute_result"
    }
   ],
   "source": [
    "df2['horsepower'].describe()"
   ]
  },
  {
   "cell_type": "code",
   "execution_count": 70,
   "id": "bf191176-97fe-4817-9c55-6606469fd0a3",
   "metadata": {},
   "outputs": [
    {
     "data": {
      "text/plain": [
       "np.float64(149.0)"
      ]
     },
     "execution_count": 70,
     "metadata": {},
     "output_type": "execute_result"
    }
   ],
   "source": [
    "df2['horsepower'].median()"
   ]
  },
  {
   "cell_type": "markdown",
   "id": "745faecb-b5f6-4ec9-8343-e3794310b90d",
   "metadata": {},
   "source": [
    "## Prepare and split the dataset\n",
    "Shuffle the dataset (the filtered one you created above), use seed 42.\n",
    "    \n",
    "Split your data in train/val/test sets, with 60%/20%/20% distribution.\n",
    "\n",
    "Use the same code as in the lectures\n"
   ]
  },
  {
   "cell_type": "code",
   "execution_count": 71,
   "id": "6760d46d-582b-4137-97be-94801e7cda26",
   "metadata": {},
   "outputs": [
    {
     "data": {
      "text/plain": [
       "'for col in df2.columns:\\n    print(col)\\n    print(df[col].unique()[:5])\\n    print(df[col].nunique())\\n    print()\\n    '"
      ]
     },
     "execution_count": 71,
     "metadata": {},
     "output_type": "execute_result"
    }
   ],
   "source": [
    "'''for col in df2.columns:\n",
    "    print(col)\n",
    "    print(df[col].unique()[:5])\n",
    "    print(df[col].nunique())\n",
    "    print()\n",
    "    '''"
   ]
  },
  {
   "cell_type": "code",
   "execution_count": 131,
   "id": "4b9ee048-52ae-47e2-af34-71326c7f1962",
   "metadata": {},
   "outputs": [
    {
     "data": {
      "text/plain": [
       "engine_displacement      0\n",
       "horsepower             708\n",
       "vehicle_weight           0\n",
       "model_year               0\n",
       "fuel_efficiency_mpg      0\n",
       "dtype: int64"
      ]
     },
     "execution_count": 131,
     "metadata": {},
     "output_type": "execute_result"
    }
   ],
   "source": [
    "df2.isnull().sum()"
   ]
  },
  {
   "cell_type": "code",
   "execution_count": null,
   "id": "27a7c137-090b-4af0-a886-b74060e01944",
   "metadata": {},
   "outputs": [],
   "source": []
  },
  {
   "cell_type": "code",
   "execution_count": null,
   "id": "99657e5f-7d91-44a7-adae-9acc01a34ee6",
   "metadata": {},
   "outputs": [],
   "source": [
    "def train_linear_regression(X, y):\n",
    "    ones = np.ones(X.shape[0])\n",
    "    X = np.column_stack([ones, X])\n",
    "\n",
    "    XTX = X.T.dot(X)\n",
    "    XTX_inv = np.linalg.inv(XTX)\n",
    "    w_full = XTX_inv.dot(X.T).dot(y)\n",
    "    \n",
    "    return w_full[0], w_full[1:]\n",
    "\n",
    "n = len(df2)\n",
    "\n",
    "n_val = int(n * 0.2)\n",
    "n_test = int(n * 0.2)\n",
    "n_train = n - n_val - n_test\n",
    "n_val, n_test, n_train\n",
    "\n",
    "df_train = df2.iloc[:n_train]\n",
    "df_val = df2.iloc[n_train:n_train+n_val]\n",
    "df_test = df2.iloc[n_train+n_val:]\n",
    "\n",
    "\n",
    "idx = np.arange(n)\n",
    "np.random.seed(42)\n",
    "np.random.shuffle(idx)\n",
    "\n",
    "df_train = df2.iloc[idx[:n_train]]\n",
    "df_val = df2.iloc[idx[n_train:n_train+n_val]]\n",
    "df_test = df2.iloc[idx[n_train+n_val:]]\n",
    "\n",
    "\n",
    "df_train = df_train.reset_index(drop=True)\n",
    "df_val = df_val.reset_index(drop=True)\n",
    "df_test = df_test.reset_index(drop=True)\n",
    "\n",
    "y_train = df_train.fuel_efficiency_mpg.values\n",
    "y_val = df_val.fuel_efficiency_mpg.values\n",
    "y_test = df_test.fuel_efficiency_mpg.values\n"
   ]
  },
  {
   "cell_type": "code",
   "execution_count": 132,
   "id": "b00e4042-e590-46dd-8f10-bdba47f497e1",
   "metadata": {},
   "outputs": [],
   "source": [
    "n = len(df2)\n",
    "\n",
    "n_val = int(n * 0.2)\n",
    "n_test = int(n * 0.2)\n",
    "n_train = n - n_val - n_test"
   ]
  },
  {
   "cell_type": "code",
   "execution_count": 133,
   "id": "7af100fe-be28-4132-bbb2-e228567e507a",
   "metadata": {},
   "outputs": [
    {
     "data": {
      "text/plain": [
       "(1940, 1940, 5824)"
      ]
     },
     "execution_count": 133,
     "metadata": {},
     "output_type": "execute_result"
    }
   ],
   "source": [
    "n_val, n_test, n_train\n"
   ]
  },
  {
   "cell_type": "code",
   "execution_count": 134,
   "id": "34c775a2-e0de-4424-8b99-a8585b4d62f8",
   "metadata": {},
   "outputs": [],
   "source": [
    "df_train = df2.iloc[:n_train]\n",
    "df_val = df2.iloc[n_train:n_train+n_val]\n",
    "df_test = df2.iloc[n_train+n_val:]"
   ]
  },
  {
   "cell_type": "code",
   "execution_count": 135,
   "id": "e90a604e-ea53-47e2-9b71-cf19f926857e",
   "metadata": {},
   "outputs": [],
   "source": [
    "idx = np.arange(n)\n",
    "np.random.seed(42)\n",
    "np.random.shuffle(idx)"
   ]
  },
  {
   "cell_type": "code",
   "execution_count": 136,
   "id": "780dc3e7-628c-4ac7-ad32-fcf32ffbd93c",
   "metadata": {},
   "outputs": [],
   "source": [
    "df_train = df2.iloc[idx[:n_train]]\n",
    "df_val = df2.iloc[idx[n_train:n_train+n_val]]\n",
    "df_test = df2.iloc[idx[n_train+n_val:]]"
   ]
  },
  {
   "cell_type": "code",
   "execution_count": 137,
   "id": "33fe4f6b-c799-4bb6-b010-f06e506839ab",
   "metadata": {},
   "outputs": [
    {
     "data": {
      "text/html": [
       "<div>\n",
       "<style scoped>\n",
       "    .dataframe tbody tr th:only-of-type {\n",
       "        vertical-align: middle;\n",
       "    }\n",
       "\n",
       "    .dataframe tbody tr th {\n",
       "        vertical-align: top;\n",
       "    }\n",
       "\n",
       "    .dataframe thead th {\n",
       "        text-align: right;\n",
       "    }\n",
       "</style>\n",
       "<table border=\"1\" class=\"dataframe\">\n",
       "  <thead>\n",
       "    <tr style=\"text-align: right;\">\n",
       "      <th></th>\n",
       "      <th>engine_displacement</th>\n",
       "      <th>horsepower</th>\n",
       "      <th>vehicle_weight</th>\n",
       "      <th>model_year</th>\n",
       "      <th>fuel_efficiency_mpg</th>\n",
       "    </tr>\n",
       "  </thead>\n",
       "  <tbody>\n",
       "    <tr>\n",
       "      <th>483</th>\n",
       "      <td>220</td>\n",
       "      <td>144.0</td>\n",
       "      <td>2535.887591</td>\n",
       "      <td>2009</td>\n",
       "      <td>16.642943</td>\n",
       "    </tr>\n",
       "    <tr>\n",
       "      <th>7506</th>\n",
       "      <td>160</td>\n",
       "      <td>141.0</td>\n",
       "      <td>2741.170484</td>\n",
       "      <td>2019</td>\n",
       "      <td>16.298377</td>\n",
       "    </tr>\n",
       "    <tr>\n",
       "      <th>8795</th>\n",
       "      <td>230</td>\n",
       "      <td>155.0</td>\n",
       "      <td>2471.880237</td>\n",
       "      <td>2017</td>\n",
       "      <td>18.591822</td>\n",
       "    </tr>\n",
       "    <tr>\n",
       "      <th>1688</th>\n",
       "      <td>150</td>\n",
       "      <td>206.0</td>\n",
       "      <td>3748.164469</td>\n",
       "      <td>2015</td>\n",
       "      <td>11.818843</td>\n",
       "    </tr>\n",
       "    <tr>\n",
       "      <th>6217</th>\n",
       "      <td>300</td>\n",
       "      <td>111.0</td>\n",
       "      <td>2135.716359</td>\n",
       "      <td>2006</td>\n",
       "      <td>19.402209</td>\n",
       "    </tr>\n",
       "  </tbody>\n",
       "</table>\n",
       "</div>"
      ],
      "text/plain": [
       "      engine_displacement  horsepower  vehicle_weight  model_year  \\\n",
       "483                   220       144.0     2535.887591        2009   \n",
       "7506                  160       141.0     2741.170484        2019   \n",
       "8795                  230       155.0     2471.880237        2017   \n",
       "1688                  150       206.0     3748.164469        2015   \n",
       "6217                  300       111.0     2135.716359        2006   \n",
       "\n",
       "      fuel_efficiency_mpg  \n",
       "483             16.642943  \n",
       "7506            16.298377  \n",
       "8795            18.591822  \n",
       "1688            11.818843  \n",
       "6217            19.402209  "
      ]
     },
     "execution_count": 137,
     "metadata": {},
     "output_type": "execute_result"
    }
   ],
   "source": [
    "df_train.head()\n"
   ]
  },
  {
   "cell_type": "code",
   "execution_count": 138,
   "id": "42ced795-faeb-4bb6-b818-5e19f7a6dfa5",
   "metadata": {},
   "outputs": [
    {
     "data": {
      "text/plain": [
       "(5824, 1940, 1940)"
      ]
     },
     "execution_count": 138,
     "metadata": {},
     "output_type": "execute_result"
    }
   ],
   "source": [
    "len(df_train), len(df_val), len(df_test)\n"
   ]
  },
  {
   "cell_type": "code",
   "execution_count": 139,
   "id": "d0803c68-f4ab-42ee-a44a-3d91d3179e8e",
   "metadata": {},
   "outputs": [],
   "source": [
    "df_train = df_train.reset_index(drop=True)\n",
    "df_val = df_val.reset_index(drop=True)\n",
    "df_test = df_test.reset_index(drop=True)"
   ]
  },
  {
   "cell_type": "code",
   "execution_count": 140,
   "id": "9e345060-8022-4397-80c8-b867c9af671d",
   "metadata": {},
   "outputs": [],
   "source": [
    "y_train = df_train.fuel_efficiency_mpg.values\n",
    "y_val = df_val.fuel_efficiency_mpg.values\n",
    "y_test = df_test.fuel_efficiency_mpg.values\n"
   ]
  },
  {
   "cell_type": "code",
   "execution_count": 142,
   "id": "072fbe85-a031-47d6-8bfc-2b30fc23d2a1",
   "metadata": {},
   "outputs": [
    {
     "data": {
      "text/plain": [
       "((1940,), (5824,))"
      ]
     },
     "execution_count": 142,
     "metadata": {},
     "output_type": "execute_result"
    }
   ],
   "source": [
    "y_val.shape, y_train.shape"
   ]
  },
  {
   "cell_type": "code",
   "execution_count": 122,
   "id": "7eacddf4-fcf6-48de-9ef6-33dfb506493b",
   "metadata": {},
   "outputs": [],
   "source": [
    "def train_linear_regression(X, y):\n",
    "    ones = np.ones(X.shape[0])\n",
    "    X = np.column_stack([ones, X])\n",
    "\n",
    "    XTX = X.T.dot(X)\n",
    "    XTX_inv = np.linalg.inv(XTX)\n",
    "    w_full = XTX_inv.dot(X.T).dot(y)\n",
    "    \n",
    "    return w_full[0], w_full[1:]"
   ]
  },
  {
   "cell_type": "markdown",
   "id": "4b80b5fb-fa56-46b0-a95c-016da3691238",
   "metadata": {},
   "source": [
    "# Question 3\n",
    "We need to deal with missing values for the column from Q1.\n",
    "\n",
    "We have two options: fill it with 0 or with the mean of this variable.\n",
    "    \n",
    "Try both options. For each, train a linear regression model without regularization using the code from the lessons.\n",
    "\n",
    "For computing the mean, use the training only!\n",
    "\n",
    "Use the validation dataset to evaluate the models and compare the RMSE of each option.\n",
    "    \n",
    "Round the RMSE scores to 2 decimal digits using round(score, 2)\n",
    "\n",
    "Which option gives better RMSE?"
   ]
  },
  {
   "cell_type": "markdown",
   "id": "c79a77a0-4b8f-44c5-8a89-d9e519fcc837",
   "metadata": {},
   "source": [
    "## training a linear regression"
   ]
  },
  {
   "cell_type": "code",
   "execution_count": 128,
   "id": "8a31bd86-bb67-43ff-9549-c21f218879a0",
   "metadata": {},
   "outputs": [],
   "source": [
    "df_train.columns\n",
    "base = ['engine_displacement', 'horsepower', 'vehicle_weight', 'model_year']\n",
    "#base = ['engine_displacement', 'horsepower', 'vehicle_weight']\n",
    "X_train = df_train[base].fillna(0).values\n",
    "w0, w = train_linear_regression(X_train,y_train)\n",
    "w0, w\n",
    "y_pred = w0 + X_train.dot(w)"
   ]
  },
  {
   "cell_type": "code",
   "execution_count": 130,
   "id": "ec86c45f-22cd-448a-964d-cc891e89aff5",
   "metadata": {},
   "outputs": [
    {
     "data": {
      "text/plain": [
       "(5824,)"
      ]
     },
     "execution_count": 130,
     "metadata": {},
     "output_type": "execute_result"
    }
   ],
   "source": [
    "y_pred.shape"
   ]
  },
  {
   "cell_type": "code",
   "execution_count": 84,
   "id": "f4446a42-d8ee-4d49-a60f-4b87f422afde",
   "metadata": {},
   "outputs": [],
   "source": [
    "base = ['engine_displacement', 'horsepower', 'vehicle_weight', 'model_year']\n",
    "#base = ['engine_displacement', 'horsepower', 'vehicle_weight']\n",
    "    "
   ]
  },
  {
   "cell_type": "code",
   "execution_count": 85,
   "id": "aa81bf0d-5cbe-48e4-af70-0d094bbd6795",
   "metadata": {},
   "outputs": [],
   "source": [
    "X_train = df_train[base].fillna(0).values"
   ]
  },
  {
   "cell_type": "code",
   "execution_count": 86,
   "id": "77455bbe-318a-4bc7-bed2-8608a62a174f",
   "metadata": {},
   "outputs": [],
   "source": [
    "w0, w = train_linear_regression(X_train,y_train)\n",
    "w0, w\n",
    "y_pred = w0 + X_train.dot(w)"
   ]
  },
  {
   "cell_type": "code",
   "execution_count": 87,
   "id": "b9c89a89-8616-4e27-af87-6da62886e5a4",
   "metadata": {},
   "outputs": [
    {
     "data": {
      "text/plain": [
       "(np.float64(28.827365474598718),\n",
       " array([ 9.93613218e-05,  3.54221891e-03, -5.01328015e-03,  3.42992869e-04]))"
      ]
     },
     "execution_count": 87,
     "metadata": {},
     "output_type": "execute_result"
    }
   ],
   "source": [
    "w0, w"
   ]
  },
  {
   "cell_type": "code",
   "execution_count": 88,
   "id": "9ae4b3f9-316a-4f39-8032-ae93d49260b5",
   "metadata": {},
   "outputs": [],
   "source": [
    "y_pred = w0 + X_train.dot(w)"
   ]
  },
  {
   "cell_type": "code",
   "execution_count": 89,
   "id": "9581a5d4-eb3a-40f4-beab-a60b9d564693",
   "metadata": {},
   "outputs": [
    {
     "data": {
      "image/png": "[encoded data removed]",
      "text/plain": [
       "<Figure size 600x400 with 1 Axes>"
      ]
     },
     "metadata": {},
     "output_type": "display_data"
    }
   ],
   "source": [
    "plt.figure(figsize=(6, 4))\n",
    "\n",
    "sns.histplot(y_train, label='target', color='#222222', alpha=0.6, bins=40)\n",
    "sns.histplot(y_pred, label='prediction', color='#aaaaaa', alpha=0.8, bins=40)\n",
    "\n",
    "plt.legend()\n",
    "\n",
    "plt.ylabel('Frequency')\n",
    "plt.xlabel('Log(Price + 1)')\n",
    "plt.title('Predictions vs actual distribution')\n",
    "\n",
    "plt.show()"
   ]
  },
  {
   "cell_type": "code",
   "execution_count": 90,
   "id": "ea122218-1d5d-455e-900e-e59635e7f3e1",
   "metadata": {},
   "outputs": [],
   "source": [
    "def rmse(y, y_pred):\n",
    "    error = y_pred - y\n",
    "    mse = (error ** 2).mean()\n",
    "    return np.sqrt(mse)"
   ]
  },
  {
   "cell_type": "code",
   "execution_count": 91,
   "id": "4243b45f-0537-4832-bc08-6b1bce491308",
   "metadata": {},
   "outputs": [
    {
     "data": {
      "text/plain": [
       "np.float64(0.52)"
      ]
     },
     "execution_count": 91,
     "metadata": {},
     "output_type": "execute_result"
    }
   ],
   "source": [
    "\n",
    "round(rmse(y_train, y_pred), 2)"
   ]
  },
  {
   "cell_type": "markdown",
   "id": "cc9b580e-5dc1-4e51-a3d3-91e32d8af516",
   "metadata": {},
   "source": [
    "#### case of filling missing values with mean of df_train"
   ]
  },
  {
   "cell_type": "code",
   "execution_count": 92,
   "id": "5fbd26e8-bfca-410d-ad99-b572aa78dc6e",
   "metadata": {},
   "outputs": [
    {
     "data": {
      "text/plain": [
       "np.float64(149.54)"
      ]
     },
     "execution_count": 92,
     "metadata": {},
     "output_type": "execute_result"
    }
   ],
   "source": [
    "m = df_train['horsepower'].mean()\n",
    "m1 = round(m, 2)\n",
    "m1"
   ]
  },
  {
   "cell_type": "code",
   "execution_count": 93,
   "id": "8563a2f1-24bb-4c5a-90a5-97e5b3ebddf2",
   "metadata": {},
   "outputs": [],
   "source": [
    "X_train = df_train[base].fillna(m1).values"
   ]
  },
  {
   "cell_type": "code",
   "execution_count": 94,
   "id": "97d47448-321d-4bbe-bc2c-f544b964e884",
   "metadata": {},
   "outputs": [
    {
     "data": {
      "text/plain": [
       "(np.float64(28.925257052008142),\n",
       " array([ 0.00012093,  0.01030308, -0.00501009, -0.00023463]))"
      ]
     },
     "execution_count": 94,
     "metadata": {},
     "output_type": "execute_result"
    }
   ],
   "source": [
    "w0, w = train_linear_regression(X_train,y_train)\n",
    "w0, w\n"
   ]
  },
  {
   "cell_type": "code",
   "execution_count": 95,
   "id": "e4df040f-7e84-4bf1-b0b9-e48b3f599600",
   "metadata": {},
   "outputs": [],
   "source": [
    "y_pred = w0 + X_train.dot(w)"
   ]
  },
  {
   "cell_type": "markdown",
   "id": "600fcd37-930e-4c18-8bba-6bf812ca8d76",
   "metadata": {},
   "source": [
    "#### RMSE"
   ]
  },
  {
   "cell_type": "code",
   "execution_count": 40,
   "id": "ae375604-b64f-4283-b6c8-5f59fa03cb12",
   "metadata": {},
   "outputs": [
    {
     "data": {
      "text/plain": [
       "np.float64(0.46)"
      ]
     },
     "execution_count": 40,
     "metadata": {},
     "output_type": "execute_result"
    }
   ],
   "source": [
    "round(rmse(y_train, y_pred), 2)"
   ]
  },
  {
   "cell_type": "code",
   "execution_count": 41,
   "id": "3d27eb8d-c9e0-4ea9-88e3-27b78e7ee5b2",
   "metadata": {},
   "outputs": [
    {
     "data": {
      "image/png": "[encoded data removed]",
      "text/plain": [
       "<Figure size 600x400 with 1 Axes>"
      ]
     },
     "metadata": {},
     "output_type": "display_data"
    }
   ],
   "source": [
    "plt.figure(figsize=(6, 4))\n",
    "\n",
    "sns.histplot(y_train, label='target', color='#222222', alpha=0.6, bins=40)\n",
    "sns.histplot(y_pred, label='prediction', color='#aaaaaa', alpha=0.8, bins=40)\n",
    "\n",
    "plt.legend()\n",
    "\n",
    "plt.ylabel('Frequency')\n",
    "plt.xlabel('Log(Price + 1)')\n",
    "plt.title('Predictions vs actual distribution')\n",
    "\n",
    "plt.show()"
   ]
  },
  {
   "cell_type": "code",
   "execution_count": 42,
   "id": "de13ad38-fb87-40a5-b3b4-71bed91243ef",
   "metadata": {},
   "outputs": [
    {
     "data": {
      "text/plain": [
       "<Axes: ylabel='Count'>"
      ]
     },
     "execution_count": 42,
     "metadata": {},
     "output_type": "execute_result"
    },
    {
     "data": {
      "image/png": "[encoded data removed]",
      "text/plain": [
       "<Figure size 640x480 with 1 Axes>"
      ]
     },
     "metadata": {},
     "output_type": "display_data"
    }
   ],
   "source": [
    "sns.histplot(y_pred, alpha=0.5 )\n",
    "sns.histplot(y_train, alpha =0.5 )\n"
   ]
  },
  {
   "cell_type": "markdown",
   "id": "9fca3e9f-6ff9-4143-acb3-9fb845b14042",
   "metadata": {},
   "source": [
    "### from the lesson "
   ]
  },
  {
   "cell_type": "code",
   "execution_count": 43,
   "id": "d7dc41e4-3389-4d28-a913-719bf4fd63f0",
   "metadata": {},
   "outputs": [],
   "source": [
    "def dot(xi,w):\n",
    "    n=len(xi)\n",
    "    res=0.0\n",
    "    for j in range(n):\n",
    "        res=res+ xi[j]*w[j]\n",
    "    return res"
   ]
  },
  {
   "cell_type": "code",
   "execution_count": 44,
   "id": "29eaa063-7e74-4cb9-a538-185ee1dbc41f",
   "metadata": {},
   "outputs": [],
   "source": [
    "def lienar_regression(xi):\n",
    "    return w0+ dot(xi,w)"
   ]
  },
  {
   "cell_type": "markdown",
   "id": "b33ea6f1-d417-4444-a9c4-2da464627a5d",
   "metadata": {},
   "source": [
    "#### 2.7 weights\n",
    "\n",
    "weights"
   ]
  },
  {
   "cell_type": "code",
   "execution_count": null,
   "id": "9644f634-3b17-4588-8842-cb95e05a43fb",
   "metadata": {},
   "outputs": [],
   "source": []
  },
  {
   "cell_type": "markdown",
   "id": "14fc0260-055e-4a53-801b-2741a7c2c7c0",
   "metadata": {},
   "source": [
    "#### 2.8 train LR"
   ]
  },
  {
   "cell_type": "code",
   "execution_count": 45,
   "id": "99bc9f3a-43a3-4f54-a20c-7005f4c1f378",
   "metadata": {},
   "outputs": [
    {
     "data": {
      "text/plain": [
       "engine_displacement      int64\n",
       "horsepower             float64\n",
       "vehicle_weight         float64\n",
       "model_year               int64\n",
       "fuel_efficiency_mpg    float64\n",
       "dtype: object"
      ]
     },
     "execution_count": 45,
     "metadata": {},
     "output_type": "execute_result"
    }
   ],
   "source": [
    "df2.dtypes"
   ]
  },
  {
   "cell_type": "code",
   "execution_count": 46,
   "id": "591a1a8b-328f-430a-998c-576549277443",
   "metadata": {},
   "outputs": [
    {
     "data": {
      "text/plain": [
       "array([2003, 2007, 2018, 2009, 2008, 2012, 2020, 2016, 2005, 2014, 2010,\n",
       "       2000, 2006, 2013, 2011, 2004, 2002, 2022, 2017, 2001, 2023, 2019,\n",
       "       2015, 2021])"
      ]
     },
     "execution_count": 46,
     "metadata": {},
     "output_type": "execute_result"
    }
   ],
   "source": [
    "df2['model_year'].unique()"
   ]
  },
  {
   "cell_type": "code",
   "execution_count": 47,
   "id": "ad379834-d276-4290-94a8-ab5a381db401",
   "metadata": {},
   "outputs": [
    {
     "data": {
      "text/plain": [
       "engine_displacement    0\n",
       "horsepower             0\n",
       "vehicle_weight         0\n",
       "model_year             0\n",
       "dtype: int64"
      ]
     },
     "execution_count": 47,
     "metadata": {},
     "output_type": "execute_result"
    }
   ],
   "source": [
    "df_train[base].fillna(0).isnull().sum()"
   ]
  },
  {
   "cell_type": "markdown",
   "id": "f115fd1b-e865-4008-a8d9-2b79c6f6a17b",
   "metadata": {},
   "source": [
    "#### 2.9 RMSE"
   ]
  },
  {
   "cell_type": "code",
   "execution_count": 48,
   "id": "00af55bb-4adc-4874-a926-ecbe2c21994e",
   "metadata": {},
   "outputs": [],
   "source": [
    "def rmse(y, y_pred):\n",
    "    se = (y-y_pred)**2\n",
    "    \n",
    "    mse= se.mean()\n",
    "    return np.sqrt(mse)"
   ]
  },
  {
   "cell_type": "markdown",
   "id": "5181670a-7d37-4c32-8ee2-736e29048f31",
   "metadata": {},
   "source": [
    "#### 2.10 Computing RMSE on Validation Data"
   ]
  },
  {
   "cell_type": "code",
   "execution_count": 49,
   "id": "fbcaf227-2d7e-4465-bace-eebd9a25a2c0",
   "metadata": {},
   "outputs": [
    {
     "data": {
      "text/plain": [
       "['engine_displacement',\n",
       " 'horsepower',\n",
       " 'vehicle_weight',\n",
       " 'model_year',\n",
       " 'fuel_efficiency_mpg']"
      ]
     },
     "execution_count": 49,
     "metadata": {},
     "output_type": "execute_result"
    }
   ],
   "source": [
    "base = list(df2.columns)\n",
    "base"
   ]
  },
  {
   "cell_type": "code",
   "execution_count": 150,
   "id": "3306f50f-3f6b-4492-983c-e35d4d61bd5e",
   "metadata": {},
   "outputs": [],
   "source": [
    "# function to prepare any dataset\n",
    "\n",
    "def prepare_X(df):\n",
    "    # selecting num columns\n",
    "    df_num=df[base]\n",
    "    # filling missed values\n",
    "    df_num = df_num.fillna(df_num.mean())\n",
    "    # extracting values into an array\n",
    "    X=  df_num.values\n",
    "    return X\n",
    "    "
   ]
  },
  {
   "cell_type": "markdown",
   "id": "189c9138-463b-4e5d-b53d-a73f26352cdb",
   "metadata": {},
   "source": [
    "##### training"
   ]
  },
  {
   "cell_type": "code",
   "execution_count": 51,
   "id": "08959ca0-2a0e-4028-bbc9-73f566205b59",
   "metadata": {},
   "outputs": [],
   "source": [
    "X_train = prepare_X(df_train)\n",
    "w0, w = train_linear_regression(X_train, y_train)"
   ]
  },
  {
   "cell_type": "markdown",
   "id": "9c1e4f97-5ebc-4645-ac75-6e93c05dd9d2",
   "metadata": {},
   "source": [
    "##### Validation"
   ]
  },
  {
   "cell_type": "code",
   "execution_count": 52,
   "id": "154c0013-6608-462a-8508-2965b6a3476a",
   "metadata": {},
   "outputs": [],
   "source": [
    "X_val= prepare_X(df_val)\n",
    "y_pred=w0+X_val.dot(w)"
   ]
  },
  {
   "cell_type": "code",
   "execution_count": 53,
   "id": "d185e5a2-1523-4ac3-a003-9f3e32e35039",
   "metadata": {},
   "outputs": [
    {
     "data": {
      "text/plain": [
       "np.float64(4.326682839377033e-10)"
      ]
     },
     "execution_count": 53,
     "metadata": {},
     "output_type": "execute_result"
    }
   ],
   "source": [
    "rmse(y_val, y_pred)"
   ]
  },
  {
   "cell_type": "code",
   "execution_count": 54,
   "id": "203d80b2-5b65-4475-adc4-a63fc62d9b28",
   "metadata": {},
   "outputs": [
    {
     "data": {
      "text/plain": [
       "Index(['engine_displacement', 'horsepower', 'vehicle_weight', 'model_year',\n",
       "       'fuel_efficiency_mpg'],\n",
       "      dtype='object')"
      ]
     },
     "execution_count": 54,
     "metadata": {},
     "output_type": "execute_result"
    }
   ],
   "source": [
    "df2.columns"
   ]
  },
  {
   "cell_type": "markdown",
   "id": "6946445a-8669-49f4-b2ef-c2b28ba587d1",
   "metadata": {},
   "source": [
    "#### 2.11 simple feature engineering"
   ]
  },
  {
   "cell_type": "code",
   "execution_count": 55,
   "id": "52302a67-8d06-4307-a543-900598b78c18",
   "metadata": {},
   "outputs": [],
   "source": [
    "def prepare_X(df):\n",
    "    df=df.copy()\n",
    "    # selecting num columns\n",
    "    df['age'] = 2025 - df.model_year\n",
    "    features = base+['age']\n",
    "    df_num=df[features]\n",
    "    # filling missed values\n",
    "    df_num = df_num.fillna(df_num.mean())\n",
    "    # extracting values into an array\n",
    "    X=  df_num.values\n",
    "    return X\n",
    "    "
   ]
  },
  {
   "cell_type": "code",
   "execution_count": 56,
   "id": "09a1868f-1067-4ded-a7a8-7f089927059a",
   "metadata": {},
   "outputs": [],
   "source": [
    "X_train = prepare_X(df_train)\n"
   ]
  },
  {
   "cell_type": "code",
   "execution_count": 58,
   "id": "957f03ae-35fc-4423-b343-0cfda3d9740e",
   "metadata": {},
   "outputs": [
    {
     "data": {
      "text/plain": [
       "engine_displacement      int64\n",
       "horsepower             float64\n",
       "vehicle_weight         float64\n",
       "model_year               int64\n",
       "fuel_efficiency_mpg    float64\n",
       "dtype: object"
      ]
     },
     "execution_count": 58,
     "metadata": {},
     "output_type": "execute_result"
    }
   ],
   "source": [
    "df_train.dtypes"
   ]
  },
  {
   "cell_type": "code",
   "execution_count": 60,
   "id": "0c20f065-9507-4570-a914-dd952bab6f3c",
   "metadata": {},
   "outputs": [
    {
     "data": {
      "text/plain": [
       "(5824, 6)"
      ]
     },
     "execution_count": 60,
     "metadata": {},
     "output_type": "execute_result"
    }
   ],
   "source": [
    "X_train.shape"
   ]
  },
  {
   "cell_type": "code",
   "execution_count": 67,
   "id": "1e357fec-d0e8-4039-a926-60058aea5815",
   "metadata": {},
   "outputs": [
    {
     "data": {
      "text/plain": [
       "np.float64(0.017124870075924753)"
      ]
     },
     "execution_count": 67,
     "metadata": {},
     "output_type": "execute_result"
    }
   ],
   "source": [
    "X_train = prepare_X(df_train)\n",
    "w0, w = train_linear_regression(X_train, y_train)\n",
    "X_val = prepare_X(df_val)\n",
    "y_pred = w0 + X_val.dot(w)\n",
    "rmse(y_val, y_pred)"
   ]
  },
  {
   "cell_type": "code",
   "execution_count": 68,
   "id": "e3ec1db8-9668-4f55-afa1-b969d12c9322",
   "metadata": {},
   "outputs": [
    {
     "data": {
      "text/plain": [
       "<Axes: ylabel='Count'>"
      ]
     },
     "execution_count": 68,
     "metadata": {},
     "output_type": "execute_result"
    },
    {
     "data": {
      "image/png": "[encoded data removed]",
      "text/plain": [
       "<Figure size 640x480 with 1 Axes>"
      ]
     },
     "metadata": {},
     "output_type": "display_data"
    }
   ],
   "source": [
    "sns.histplot(y_pred, alpha=0.5 )\n",
    "sns.histplot(y_train, alpha =0.5 )"
   ]
  },
  {
   "cell_type": "markdown",
   "id": "634b713b-5594-4e55-a6b5-17e32b3a4d02",
   "metadata": {},
   "source": [
    "#### 2.12 categorical"
   ]
  },
  {
   "cell_type": "code",
   "execution_count": 80,
   "id": "43620708-5e63-462c-8c53-eaba345cde55",
   "metadata": {},
   "outputs": [],
   "source": [
    "# to turn the boolean into int\n",
    "\n",
    "df['n_2']= (df.num_doors==2).astype('int')"
   ]
  },
  {
   "cell_type": "code",
   "execution_count": 81,
   "id": "e7395238-04e0-4426-80aa-78c0612ca484",
   "metadata": {},
   "outputs": [],
   "source": [
    "df['n_4']= (df.num_doors==4).astype('int')"
   ]
  },
  {
   "cell_type": "code",
   "execution_count": 82,
   "id": "eb772152-0915-445d-81de-d6a099554b78",
   "metadata": {},
   "outputs": [],
   "source": [
    "df['n_3']= (df.num_doors==3).astype('int')"
   ]
  },
  {
   "cell_type": "code",
   "execution_count": 85,
   "id": "9186473c-aba0-4c8e-9f22-652d02c7d45f",
   "metadata": {},
   "outputs": [],
   "source": [
    "for v in [2,3,4]:\n",
    "    df_train['n_%s' %v]= (df.num_doors==v).astype('int')"
   ]
  },
  {
   "cell_type": "code",
   "execution_count": 86,
   "id": "2e4bda54-235e-446c-9ae6-72133990b7db",
   "metadata": {},
   "outputs": [
    {
     "data": {
      "text/plain": [
       "Index(['engine_displacement', 'num_cylinders', 'horsepower', 'vehicle_weight',\n",
       "       'acceleration', 'model_year', 'origin', 'fuel_type', 'drivetrain',\n",
       "       'num_doors', 'fuel_efficiency_mpg', 'n_4', 'n_3', 'n_2'],\n",
       "      dtype='object')"
      ]
     },
     "execution_count": 86,
     "metadata": {},
     "output_type": "execute_result"
    }
   ],
   "source": [
    "df.columns"
   ]
  },
  {
   "cell_type": "code",
   "execution_count": 87,
   "id": "dc39711f-dae9-45ba-8ead-ebfb3733f98a",
   "metadata": {},
   "outputs": [
    {
     "data": {
      "text/plain": [
       "Index(['engine_displacement', 'horsepower', 'vehicle_weight', 'model_year',\n",
       "       'fuel_efficiency_mpg', 'n_%s', 'n_2', 'n_3', 'n_4'],\n",
       "      dtype='object')"
      ]
     },
     "execution_count": 87,
     "metadata": {},
     "output_type": "execute_result"
    }
   ],
   "source": [
    "df_train.columns"
   ]
  },
  {
   "cell_type": "code",
   "execution_count": 93,
   "id": "d35c39d8-f3a4-4fa5-9ce6-a18776a54477",
   "metadata": {},
   "outputs": [],
   "source": [
    "del df_train['n_4']"
   ]
  },
  {
   "cell_type": "markdown",
   "id": "6e5a6bff-6ae6-4798-9b26-167d550954a6",
   "metadata": {},
   "source": [
    "###### modify prepare function"
   ]
  },
  {
   "cell_type": "code",
   "execution_count": 121,
   "id": "dab34eb1-ecc0-491c-9921-73903f6fc8a9",
   "metadata": {},
   "outputs": [],
   "source": [
    "def prepare_X(df):\n",
    "    df=df.copy()\n",
    "    base= list(df.columns)\n",
    "    # filling missed values\n",
    "    #df_num = df.fillna(df_num.mean())\n",
    "    features=base.copy()\n",
    "\n",
    "    df['age'] = 2025 - df.model_year\n",
    "    \n",
    "    features.append('age')\n",
    "    for v in [2,3,4]:\n",
    "        df['n_%s' %v]= (df.num_doors==v).astype('int')\n",
    "        features.append('n_%s' % v)\n",
    "    df_num=df[features]\n",
    "\n",
    "    df_num = df_num.fillna(0)\n",
    "    # selecting num columns\n",
    "    # adding age\n",
    "   \n",
    "     # categorical\n",
    "  \n",
    "    \n",
    "   \n",
    "    # extracting values into an array\n",
    "    X=  df_num.values\n",
    "    return X\n",
    "    "
   ]
  },
  {
   "cell_type": "code",
   "execution_count": 127,
   "id": "c8a29610-6af3-407d-8918-edf8c05798b9",
   "metadata": {},
   "outputs": [
    {
     "data": {
      "text/plain": [
       "Index(['engine_displacement', 'num_cylinders', 'horsepower', 'vehicle_weight',\n",
       "       'acceleration', 'model_year', 'origin', 'fuel_type', 'drivetrain',\n",
       "       'num_doors', 'fuel_efficiency_mpg', 'n_4', 'n_3', 'n_2'],\n",
       "      dtype='object')"
      ]
     },
     "execution_count": 127,
     "metadata": {},
     "output_type": "execute_result"
    }
   ],
   "source": [
    "df.columns"
   ]
  },
  {
   "cell_type": "code",
   "execution_count": 128,
   "id": "292fa185-a0d0-46d1-a1eb-de7a5318a3f4",
   "metadata": {},
   "outputs": [
    {
     "data": {
      "text/plain": [
       "[4.0, 3.0, 2.0, 5.0, 6.0]"
      ]
     },
     "execution_count": 128,
     "metadata": {},
     "output_type": "execute_result"
    }
   ],
   "source": [
    "list(df.num_cylinders.value_counts().head().index)"
   ]
  },
  {
   "cell_type": "code",
   "execution_count": 135,
   "id": "acc35832-c3d2-4813-8228-a91e8f0301ba",
   "metadata": {},
   "outputs": [
    {
     "data": {
      "text/plain": [
       "36"
      ]
     },
     "execution_count": 135,
     "metadata": {},
     "output_type": "execute_result"
    }
   ],
   "source": [
    "df2.engine_displacement.nunique()"
   ]
  },
  {
   "cell_type": "markdown",
   "id": "42640152-4166-4a0b-9cfc-74e5bcdc0bf1",
   "metadata": {},
   "source": [
    "#### 2.13 Regularization"
   ]
  },
  {
   "cell_type": "code",
   "execution_count": null,
   "id": "ef080a82-8f2e-4ff1-bf7e-514f135386d2",
   "metadata": {},
   "outputs": [],
   "source": []
  },
  {
   "cell_type": "markdown",
   "id": "1761aa78-eba1-438f-babe-614b099b12f9",
   "metadata": {},
   "source": [
    "w=(X.T X).inv.X.T.y\n",
    "\n",
    "the problem is in this part: (X.T X).inv as sometimes the inverse does not exist\n"
   ]
  },
  {
   "cell_type": "code",
   "execution_count": 34,
   "id": "2f3ed9e6-e2e2-468b-8312-8263926ce31d",
   "metadata": {},
   "outputs": [
    {
     "data": {
      "text/plain": [
       "array([[4.       , 4.       , 4.       ],\n",
       "       [3.       , 5.       , 5.       ],\n",
       "       [5.       , 1.       , 1.       ],\n",
       "       [5.       , 4.       , 4.       ],\n",
       "       [7.       , 5.       , 5.       ],\n",
       "       [4.       , 5.       , 5.0000001]])"
      ]
     },
     "execution_count": 34,
     "metadata": {},
     "output_type": "execute_result"
    }
   ],
   "source": [
    "X=[\n",
    "    [4,4,4],\n",
    "    [3,5,5],\n",
    "    [5,1,1],\n",
    "    [5,4,4],\n",
    "    [7,5,5],\n",
    "    [4,5,5.0000001]\n",
    "]\n",
    "y = [1, 2, 3, 1, 2, 3]\n",
    " \n",
    "# duplicate columns\n",
    "X=np.array(X)\n",
    "X"
   ]
  },
  {
   "cell_type": "code",
   "execution_count": 35,
   "id": "c2ab5c06-9bfa-45ed-8ae9-27511cfd504f",
   "metadata": {},
   "outputs": [
    {
     "data": {
      "text/plain": [
       "array([[140.       , 111.       , 111.0000004],\n",
       "       [111.       , 108.       , 108.0000005],\n",
       "       [111.0000004, 108.0000005, 108.000001 ]])"
      ]
     },
     "execution_count": 35,
     "metadata": {},
     "output_type": "execute_result"
    }
   ],
   "source": [
    "XTX= X.T.dot(X)\n",
    "XTX"
   ]
  },
  {
   "cell_type": "code",
   "execution_count": 36,
   "id": "46e7d319-2393-4c60-b9d5-bc7d1be33e7b",
   "metadata": {},
   "outputs": [
    {
     "data": {
      "text/plain": [
       "array([[ 3.92646538e-02, -1.54615164e+05,  1.54615121e+05],\n",
       "       [-1.54615170e+05,  3.51843724e+13, -3.51843721e+13],\n",
       "       [ 1.54615129e+05, -3.51843721e+13,  3.51843718e+13]])"
      ]
     },
     "execution_count": 36,
     "metadata": {},
     "output_type": "execute_result"
    }
   ],
   "source": [
    "np.linalg.inv(XTX)"
   ]
  },
  {
   "cell_type": "code",
   "execution_count": 37,
   "id": "7be1ec52-4013-45dd-b159-57933cf7959f",
   "metadata": {},
   "outputs": [],
   "source": [
    "XTX_inv = np.linalg.inv(XTX)"
   ]
  },
  {
   "cell_type": "code",
   "execution_count": 38,
   "id": "71808fd1-fff7-4145-87f1-e259bd2efe87",
   "metadata": {},
   "outputs": [
    {
     "data": {
      "text/plain": [
       "array([ 2.73776578e-01, -4.41093100e+06,  4.41093113e+06])"
      ]
     },
     "execution_count": 38,
     "metadata": {},
     "output_type": "execute_result"
    }
   ],
   "source": [
    "XTX_inv.dot(X.T).dot(y)"
   ]
  },
  {
   "cell_type": "code",
   "execution_count": 39,
   "id": "067f2a47-3573-43d1-8142-591de725a70e",
   "metadata": {},
   "outputs": [],
   "source": [
    "# to solve the problem we can add a small number on the diagonal"
   ]
  },
  {
   "cell_type": "code",
   "execution_count": 40,
   "id": "e6762415-a174-40d8-8a22-6e7b6d51de2e",
   "metadata": {},
   "outputs": [],
   "source": [
    "XTX = [\n",
    "    [1,2,2],\n",
    "    [2,1.00001, 1.000001],\n",
    "    [2, 1.0000001, 1.0001],\n",
    "]"
   ]
  },
  {
   "cell_type": "code",
   "execution_count": 43,
   "id": "309a3cff-7928-4752-ae16-f5bad5fc87d1",
   "metadata": {},
   "outputs": [
    {
     "ename": "LinAlgError",
     "evalue": "Singular matrix",
     "output_type": "error",
     "traceback": [
      "\u001b[1;31m---------------------------------------------------------------------------\u001b[0m",
      "\u001b[1;31mLinAlgError\u001b[0m                               Traceback (most recent call last)",
      "Cell \u001b[1;32mIn[43], line 8\u001b[0m\n\u001b[0;32m      1\u001b[0m \u001b[38;5;66;03m# Adding a small number to the diagonal\u001b[39;00m\n\u001b[0;32m      2\u001b[0m \u001b[38;5;66;03m# helps to control. So the numbers of w become smaller\u001b[39;00m\n\u001b[0;32m      3\u001b[0m XTX \u001b[38;5;241m=\u001b[39m [\n\u001b[0;32m      4\u001b[0m     [\u001b[38;5;241m1\u001b[39m, \u001b[38;5;241m2\u001b[39m, \u001b[38;5;241m2\u001b[39m],\n\u001b[0;32m      5\u001b[0m     [\u001b[38;5;241m2\u001b[39m, \u001b[38;5;241m1\u001b[39m, \u001b[38;5;241m1\u001b[39m],\n\u001b[0;32m      6\u001b[0m     [\u001b[38;5;241m2\u001b[39m, \u001b[38;5;241m1\u001b[39m, \u001b[38;5;241m1\u001b[39m]\n\u001b[0;32m      7\u001b[0m ]\n\u001b[1;32m----> 8\u001b[0m \u001b[43mnp\u001b[49m\u001b[38;5;241;43m.\u001b[39;49m\u001b[43mlinalg\u001b[49m\u001b[38;5;241;43m.\u001b[39;49m\u001b[43minv\u001b[49m\u001b[43m(\u001b[49m\u001b[43mXTX\u001b[49m\u001b[43m)\u001b[49m\n",
      "File \u001b[1;32m~\\AppData\\Local\\anaconda3\\envs\\ml-env\\lib\\site-packages\\numpy\\linalg\\_linalg.py:609\u001b[0m, in \u001b[0;36minv\u001b[1;34m(a)\u001b[0m\n\u001b[0;32m    606\u001b[0m signature \u001b[38;5;241m=\u001b[39m \u001b[38;5;124m'\u001b[39m\u001b[38;5;124mD->D\u001b[39m\u001b[38;5;124m'\u001b[39m \u001b[38;5;28;01mif\u001b[39;00m isComplexType(t) \u001b[38;5;28;01melse\u001b[39;00m \u001b[38;5;124m'\u001b[39m\u001b[38;5;124md->d\u001b[39m\u001b[38;5;124m'\u001b[39m\n\u001b[0;32m    607\u001b[0m \u001b[38;5;28;01mwith\u001b[39;00m errstate(call\u001b[38;5;241m=\u001b[39m_raise_linalgerror_singular, invalid\u001b[38;5;241m=\u001b[39m\u001b[38;5;124m'\u001b[39m\u001b[38;5;124mcall\u001b[39m\u001b[38;5;124m'\u001b[39m,\n\u001b[0;32m    608\u001b[0m               over\u001b[38;5;241m=\u001b[39m\u001b[38;5;124m'\u001b[39m\u001b[38;5;124mignore\u001b[39m\u001b[38;5;124m'\u001b[39m, divide\u001b[38;5;241m=\u001b[39m\u001b[38;5;124m'\u001b[39m\u001b[38;5;124mignore\u001b[39m\u001b[38;5;124m'\u001b[39m, under\u001b[38;5;241m=\u001b[39m\u001b[38;5;124m'\u001b[39m\u001b[38;5;124mignore\u001b[39m\u001b[38;5;124m'\u001b[39m):\n\u001b[1;32m--> 609\u001b[0m     ainv \u001b[38;5;241m=\u001b[39m \u001b[43m_umath_linalg\u001b[49m\u001b[38;5;241;43m.\u001b[39;49m\u001b[43minv\u001b[49m\u001b[43m(\u001b[49m\u001b[43ma\u001b[49m\u001b[43m,\u001b[49m\u001b[43m \u001b[49m\u001b[43msignature\u001b[49m\u001b[38;5;241;43m=\u001b[39;49m\u001b[43msignature\u001b[49m\u001b[43m)\u001b[49m\n\u001b[0;32m    610\u001b[0m \u001b[38;5;28;01mreturn\u001b[39;00m wrap(ainv\u001b[38;5;241m.\u001b[39mastype(result_t, copy\u001b[38;5;241m=\u001b[39m\u001b[38;5;28;01mFalse\u001b[39;00m))\n",
      "File \u001b[1;32m~\\AppData\\Local\\anaconda3\\envs\\ml-env\\lib\\site-packages\\numpy\\linalg\\_linalg.py:104\u001b[0m, in \u001b[0;36m_raise_linalgerror_singular\u001b[1;34m(err, flag)\u001b[0m\n\u001b[0;32m    103\u001b[0m \u001b[38;5;28;01mdef\u001b[39;00m\u001b[38;5;250m \u001b[39m\u001b[38;5;21m_raise_linalgerror_singular\u001b[39m(err, flag):\n\u001b[1;32m--> 104\u001b[0m     \u001b[38;5;28;01mraise\u001b[39;00m LinAlgError(\u001b[38;5;124m\"\u001b[39m\u001b[38;5;124mSingular matrix\u001b[39m\u001b[38;5;124m\"\u001b[39m)\n",
      "\u001b[1;31mLinAlgError\u001b[0m: Singular matrix"
     ]
    }
   ],
   "source": [
    "\n",
    "\n",
    "# Adding a small number to the diagonal\n",
    "# helps to control. So the numbers of w become smaller\n",
    "XTX = [\n",
    "    [1, 2, 2],\n",
    "    [2, 1, 1],\n",
    "    [2, 1, 1]\n",
    "]\n",
    "np.linalg.inv(XTX)"
   ]
  },
  {
   "cell_type": "code",
   "execution_count": 44,
   "id": "2aca4fbe-1a2f-4464-b9c3-48b8c42cdea3",
   "metadata": {},
   "outputs": [
    {
     "data": {
      "text/plain": [
       "array([[2., 2., 2.],\n",
       "       [2., 2., 1.],\n",
       "       [2., 1., 2.]])"
      ]
     },
     "execution_count": 44,
     "metadata": {},
     "output_type": "execute_result"
    }
   ],
   "source": [
    "XTX+np.eye(3)"
   ]
  },
  {
   "cell_type": "code",
   "execution_count": 55,
   "id": "0bbd9301-7415-4414-88fd-605bb82e38b5",
   "metadata": {},
   "outputs": [],
   "source": [
    "XTX=XTX+ 0.1 * np.eye(3)"
   ]
  },
  {
   "cell_type": "code",
   "execution_count": 54,
   "id": "9ceb1034-8978-47c3-a719-69b2e5afa860",
   "metadata": {},
   "outputs": [
    {
     "data": {
      "text/plain": [
       "array([[ 0.08037833, -0.0114727 , -0.0114727 ],\n",
       "       [-0.0114727 ,  0.07894568, -0.00430371],\n",
       "       [-0.0114727 , -0.00430371,  0.07894568]])"
      ]
     },
     "execution_count": 54,
     "metadata": {},
     "output_type": "execute_result"
    }
   ],
   "source": [
    "np.linalg.inv(XTX)"
   ]
  },
  {
   "cell_type": "markdown",
   "id": "2f762fb8-2c25-4abb-a339-23c4fcb46480",
   "metadata": {},
   "source": [
    "The larger the number alpha adding to the diagonal, the more we have these weights under control. The reason why this works this way is, that this decrease the likelihood that these two columns are just copies of each other."
   ]
  },
  {
   "cell_type": "markdown",
   "id": "9ce16cdf-56dd-45a8-a2b3-28d2ac0ce781",
   "metadata": {},
   "source": [
    "##### re implementing the linear regression function"
   ]
  },
  {
   "cell_type": "code",
   "execution_count": 57,
   "id": "6289aea1-ca6a-43e1-ba98-f2dbe3892630",
   "metadata": {},
   "outputs": [],
   "source": [
    "def train_linear_regression_reg(X, y, r):\n",
    "    ones = np.ones(X.shape[0])\n",
    "    X = np.column_stack([ones, X])\n",
    "     \n",
    "    XTX = X.T.dot(X)\n",
    "    XTX = XTX + r*np.eye(XTX.shape[0])\n",
    "     \n",
    "    XTX_inv = np.linalg.inv(XTX)\n",
    "    w_full = XTX_inv.dot(X.T).dot(y)\n",
    "     \n",
    "    return w_full[0], w_full[1:]\n"
   ]
  },
  {
   "cell_type": "code",
   "execution_count": 190,
   "id": "ffae4896-220b-408e-abe9-2239e4ebfd11",
   "metadata": {},
   "outputs": [
    {
     "data": {
      "text/plain": [
       "array([[ 220.        ,  144.        , 2535.88759124, 2009.        ],\n",
       "       [ 160.        ,  141.        , 2741.17048439, 2019.        ],\n",
       "       [ 230.        ,  155.        , 2471.88023726, 2017.        ],\n",
       "       ...,\n",
       "       [ 210.        ,  152.        , 2500.17568746, 2020.        ],\n",
       "       [ 250.        ,  154.        , 2254.31324473, 2002.        ],\n",
       "       [ 210.        ,  152.        , 2435.20360628, 2004.        ]],\n",
       "      shape=(5824, 4))"
      ]
     },
     "execution_count": 190,
     "metadata": {},
     "output_type": "execute_result"
    }
   ],
   "source": [
    "X_train"
   ]
  },
  {
   "cell_type": "code",
   "execution_count": 191,
   "id": "aa9c4adf-1bbf-4216-8ee8-000f6d58650f",
   "metadata": {},
   "outputs": [
    {
     "data": {
      "text/plain": [
       "np.float64(0.4633875463745879)"
      ]
     },
     "execution_count": 191,
     "metadata": {},
     "output_type": "execute_result"
    }
   ],
   "source": [
    "\n",
    "X_train = prepare_X(df_train)\n",
    "w0, w = train_linear_regression_reg(X_train, y_train, r=0.01)\n",
    " \n",
    "X_val = prepare_X(df_val)\n",
    "y_pred = w0 + X_val.dot(w)\n",
    " \n",
    "rmse(y_val, y_pred)\n",
    "# Output: 0.45685446091134857"
   ]
  },
  {
   "cell_type": "markdown",
   "id": "3b87c354-e58d-42ae-a0e4-ee85af467e42",
   "metadata": {},
   "source": [
    "#### 2.14 Tuning the model \n",
    "finding the best parameter\n",
    "\n",
    "best value for r"
   ]
  },
  {
   "cell_type": "code",
   "execution_count": 175,
   "id": "e2b404b4-e25e-43b3-a0b7-aa81c55e07a4",
   "metadata": {},
   "outputs": [
    {
     "name": "stdout",
     "output_type": "stream",
     "text": [
      "reg parameter:  0.0 bias term:  28.92525995211667 rmse:  0.46362369950314425\n",
      "reg parameter:  1e-05 bias term:  28.920734457898266 rmse:  0.4636232150529379\n",
      "reg parameter:  0.0001 bias term:  28.880068643722012 rmse:  0.46361888374449434\n",
      "reg parameter:  0.001 bias term:  28.47961317027349 rmse:  0.4635783407934924\n",
      "reg parameter:  0.01 bias term:  25.01148264610365 rmse:  0.4633875463745879\n",
      "reg parameter:  0.1 bias term:  11.277820454164704 rmse:  0.4654524183759509\n",
      "reg parameter:  1 bias term:  1.7374758273385476 rmse:  0.4695095104384158\n",
      "reg parameter:  10 bias term:  0.1836835983182771 rmse:  0.47037007231179845\n"
     ]
    }
   ],
   "source": [
    "for r in [0.0, 0.00001, 0.0001, 0.001, 0.01, 0.1, 1, 10]:\n",
    "    X_train = prepare_X(df_train)\n",
    "    w0, w = train_linear_regression_reg(X_train, y_train, r=r)\n",
    " \n",
    "    X_val = prepare_X(df_val)\n",
    "    y_pred = w0 + X_val.dot(w)\n",
    " \n",
    "    score = rmse(y_val, y_pred)\n",
    "     \n",
    "    print(\"reg parameter: \",r, \"bias term: \",w0, \"rmse: \",score)\n",
    "    "
   ]
  },
  {
   "cell_type": "code",
   "execution_count": null,
   "id": "95a6f93b-199b-40d8-8aa2-98e2f38135e1",
   "metadata": {},
   "outputs": [],
   "source": []
  },
  {
   "cell_type": "code",
   "execution_count": null,
   "id": "0c84a530-3891-44f6-98e1-460bca67c15e",
   "metadata": {},
   "outputs": [],
   "source": []
  },
  {
   "cell_type": "markdown",
   "id": "55033c21-ae0a-4cb9-8627-c71fff24bb20",
   "metadata": {},
   "source": [
    "# Question 4"
   ]
  },
  {
   "cell_type": "markdown",
   "id": "ca9fe3bf-6822-47bd-9ae4-a849fa41172f",
   "metadata": {},
   "source": [
    "Now let's train a regularized linear regression.\n",
    "\n",
    "For this question, fill the NAs with 0.\n",
    "Try different values of r from this list: [0, 0.01, 0.1, 1, 5, 10, 100].\n",
    "\n",
    "Use RMSE to evaluate the model on the validation dataset.\n",
    "\n",
    "Round the RMSE scores to 2 decimal digits.\n",
    "\n",
    "Which r gives the best RMSE?\n",
    "\n",
    "If multiple options give the same best RMSE, select the smallest r.\n",
    "\n"
   ]
  },
  {
   "cell_type": "code",
   "execution_count": 151,
   "id": "0baddf59-06b2-46b5-a3a6-7035aa0e6bdc",
   "metadata": {},
   "outputs": [],
   "source": [
    "def train_linear_regression_reg(X, y, r):\n",
    "    ones = np.ones(X.shape[0])\n",
    "    X = np.column_stack([ones, X])\n",
    "     \n",
    "    XTX = X.T.dot(X)\n",
    "    XTX = XTX + r*np.eye(XTX.shape[0])\n",
    "     \n",
    "    XTX_inv = np.linalg.inv(XTX)\n",
    "    w_full = XTX_inv.dot(X.T).dot(y)\n",
    "     \n",
    "    return w_full[0], w_full[1:]"
   ]
  },
  {
   "cell_type": "code",
   "execution_count": 152,
   "id": "76d67675-f32b-4a48-9dad-972c339dc9ef",
   "metadata": {},
   "outputs": [],
   "source": [
    "df_train.columns\n",
    "base = ['engine_displacement', 'horsepower', 'vehicle_weight', 'model_year']\n",
    "#base = ['engine_displacement', 'horsepower', 'vehicle_weight']\n",
    "#X_train = df_train[base].fillna(0).values\n",
    "X_train = prepare_X(df_train)\n",
    "\n",
    "w0, w = train_linear_regression_reg(X_train,y_train, r=0.01)\n",
    "w0, w\n",
    "y_pred = w0 + X_train.dot(w)"
   ]
  },
  {
   "cell_type": "code",
   "execution_count": 153,
   "id": "a115fbb9-c384-491c-9303-0f61f9bbc421",
   "metadata": {},
   "outputs": [
    {
     "data": {
      "text/plain": [
       "(5824,)"
      ]
     },
     "execution_count": 153,
     "metadata": {},
     "output_type": "execute_result"
    }
   ],
   "source": [
    "y_pred.shape"
   ]
  },
  {
   "cell_type": "code",
   "execution_count": 154,
   "id": "78cfd4a0-885f-4ef4-849f-053a52ecf49e",
   "metadata": {},
   "outputs": [],
   "source": [
    "def rmse(y, y_pred):\n",
    "    se = (y-y_pred)**2\n",
    "    \n",
    "    mse= se.mean()\n",
    "    \n",
    "    return np.sqrt(mse)"
   ]
  },
  {
   "cell_type": "code",
   "execution_count": 155,
   "id": "e0dde89c-b858-417a-bddf-27bdd016d8ef",
   "metadata": {},
   "outputs": [
    {
     "data": {
      "text/plain": [
       "np.float64(0.46262290852514065)"
      ]
     },
     "execution_count": 155,
     "metadata": {},
     "output_type": "execute_result"
    }
   ],
   "source": [
    "rmse(y_train, y_pred)"
   ]
  },
  {
   "cell_type": "markdown",
   "id": "059f396b-07dc-49e6-a6de-ac587479e1bd",
   "metadata": {
    "jp-MarkdownHeadingCollapsed": true
   },
   "source": [
    "##### different r\n"
   ]
  },
  {
   "cell_type": "markdown",
   "id": "e13db006-7b6b-4f55-b1df-434fa5fdd333",
   "metadata": {},
   "source": [
    "[0, 0.01, 0.1, 1, 5, 10, 100]"
   ]
  },
  {
   "cell_type": "code",
   "execution_count": 165,
   "id": "6aa0351a-ff4f-4b8e-b394-60f1423128c9",
   "metadata": {},
   "outputs": [
    {
     "data": {
      "text/plain": [
       "np.float64(0.46)"
      ]
     },
     "execution_count": 165,
     "metadata": {},
     "output_type": "execute_result"
    }
   ],
   "source": [
    "w0, w = train_linear_regression_reg(X_train,y_train, r=0)\n",
    "w0, w\n",
    "y_pred = w0 + X_train.dot(w)\n",
    "round(rmse(y_train, y_pred), 2)"
   ]
  },
  {
   "cell_type": "code",
   "execution_count": 164,
   "id": "05f029d1-7ccf-4328-8d2e-c1f861b522f5",
   "metadata": {},
   "outputs": [
    {
     "data": {
      "text/plain": [
       "np.float64(0.46)"
      ]
     },
     "execution_count": 164,
     "metadata": {},
     "output_type": "execute_result"
    }
   ],
   "source": [
    "w0, w = train_linear_regression_reg(X_train,y_train, r=0.01)\n",
    "w0, w\n",
    "y_pred = w0 + X_train.dot(w)\n",
    "round(rmse(y_train, y_pred),2)"
   ]
  },
  {
   "cell_type": "code",
   "execution_count": 167,
   "id": "f7ee227b-8bc3-4437-803b-05c61cc3e464",
   "metadata": {},
   "outputs": [
    {
     "data": {
      "text/plain": [
       "np.float64(0.47)"
      ]
     },
     "execution_count": 167,
     "metadata": {},
     "output_type": "execute_result"
    }
   ],
   "source": [
    "w0, w = train_linear_regression_reg(X_train,y_train, r=0.1)\n",
    "w0, w\n",
    "y_pred = w0 + X_train.dot(w)\n",
    "round(rmse(y_train, y_pred),2)"
   ]
  },
  {
   "cell_type": "code",
   "execution_count": 168,
   "id": "6a87839f-ae54-4196-b544-e2ed53e4848a",
   "metadata": {},
   "outputs": [
    {
     "data": {
      "text/plain": [
       "np.float64(0.47)"
      ]
     },
     "execution_count": 168,
     "metadata": {},
     "output_type": "execute_result"
    }
   ],
   "source": [
    "w0, w = train_linear_regression_reg(X_train,y_train, r=1)\n",
    "w0, w\n",
    "y_pred = w0 + X_train.dot(w)\n",
    "round(rmse(y_train, y_pred),2)"
   ]
  },
  {
   "cell_type": "code",
   "execution_count": null,
   "id": "a75012c6-35cd-4a25-9b35-ff5cc1559c6c",
   "metadata": {},
   "outputs": [],
   "source": [
    "[0, 0.01, 0.1, 1, 5, 10, 100]"
   ]
  },
  {
   "cell_type": "code",
   "execution_count": 170,
   "id": "fffa020c-4160-4789-a3cf-9e0869c19966",
   "metadata": {},
   "outputs": [
    {
     "data": {
      "text/plain": [
       "np.float64(0.47)"
      ]
     },
     "execution_count": 170,
     "metadata": {},
     "output_type": "execute_result"
    }
   ],
   "source": [
    "w0, w = train_linear_regression_reg(X_train,y_train, r=5)\n",
    "w0, w\n",
    "y_pred = w0 + X_train.dot(w)\n",
    "round(rmse(y_train, y_pred),2)"
   ]
  },
  {
   "cell_type": "code",
   "execution_count": 171,
   "id": "c2e10255-fa47-446f-b1e9-2d728dd26fd2",
   "metadata": {},
   "outputs": [
    {
     "data": {
      "text/plain": [
       "np.float64(0.47)"
      ]
     },
     "execution_count": 171,
     "metadata": {},
     "output_type": "execute_result"
    }
   ],
   "source": [
    "w0, w = train_linear_regression_reg(X_train,y_train, r=10)\n",
    "w0, w\n",
    "y_pred = w0 + X_train.dot(w)\n",
    "round(rmse(y_train, y_pred),2)"
   ]
  },
  {
   "cell_type": "code",
   "execution_count": 172,
   "id": "77bd6fe1-f276-49cd-8dea-c68e0558bbed",
   "metadata": {},
   "outputs": [
    {
     "data": {
      "text/plain": [
       "np.float64(0.47)"
      ]
     },
     "execution_count": 172,
     "metadata": {},
     "output_type": "execute_result"
    }
   ],
   "source": [
    "w0, w = train_linear_regression_reg(X_train,y_train, r=100)\n",
    "w0, w\n",
    "y_pred = w0 + X_train.dot(w)\n",
    "round(rmse(y_train, y_pred),2)"
   ]
  },
  {
   "cell_type": "markdown",
   "id": "7a5874b0-f844-4fd2-8421-d65f6dedf289",
   "metadata": {},
   "source": [
    "##### finding the best value for r\n",
    " "
   ]
  },
  {
   "cell_type": "code",
   "execution_count": 178,
   "id": "ab62eec8-4e23-46c6-a8dc-5b728b6e8dd8",
   "metadata": {},
   "outputs": [
    {
     "name": "stdout",
     "output_type": "stream",
     "text": [
      "reg parameter:  0 bias term:  28.92525995211667 rmse:  0.46362369950314425\n",
      "reg parameter:  0.01 bias term:  25.01148264610365 rmse:  0.4633875463745879\n",
      "reg parameter:  1 bias term:  1.7374758273385476 rmse:  0.4695095104384158\n",
      "reg parameter:  10 bias term:  0.1836835983182771 rmse:  0.47037007231179845\n",
      "reg parameter:  100 bias term:  0.018480250159485886 rmse:  0.4704647158421216\n"
     ]
    }
   ],
   "source": [
    "for r in [0,  0.01, 1,  10, 100]:\n",
    "    X_train = prepare_X(df_train)\n",
    "    w0, w = train_linear_regression_reg(X_train, y_train, r=r)\n",
    " \n",
    "    X_val = prepare_X(df_val)\n",
    "    y_pred = w0 + X_val.dot(w)\n",
    " \n",
    "    score = rmse(y_val, y_pred)\n",
    "     \n",
    "    print(\"reg parameter: \",r, \"bias term: \",w0, \"rmse: \",score)"
   ]
  },
  {
   "cell_type": "code",
   "execution_count": null,
   "id": "aa573aaf-176c-43b4-8b27-0f2a40df712c",
   "metadata": {},
   "outputs": [],
   "source": [
    "we look at what make the bias not huge and rmse acceptable"
   ]
  },
  {
   "cell_type": "markdown",
   "id": "5027ca70-311c-4055-aaee-fbe2005abda8",
   "metadata": {},
   "source": [
    "Model Selection Discussion\n",
    "A series of linear regression models were trained with different regularization strengths (λ) to balance model accuracy and stability. As λ increased from 0 to 100, the bias term decreased substantially—from 28.93 at λ=0 to 0.018 at λ=100—indicating greater coefficient shrinkage and reduced sensitivity to noise. However, this came with a gradual rise in RMSE from 0.4636 to 0.4705. The most favorable trade-off was observed at λ = 1, where the RMSE (0.4695) remained close to the minimum while the bias term dropped dramatically to 1.74. This setting provides a well-regularized model with good predictive performance and improved generalization, avoiding both overfitting (low λ) and underfitting (high λ)."
   ]
  },
  {
   "cell_type": "code",
   "execution_count": 180,
   "id": "ccc7d0f2-e278-46ec-aaaf-ca432ab62946",
   "metadata": {},
   "outputs": [
    {
     "name": "stdout",
     "output_type": "stream",
     "text": [
      "0.4633875463745879\n"
     ]
    }
   ],
   "source": [
    "r=0.01\n",
    "X_train = prepare_X(df_train)\n",
    "w0, w = train_linear_regression_reg(X_train, y_train, r=r)\n",
    "X_val = prepare_X(df_val)\n",
    "y_pred = w0 + X_val.dot(w)\n",
    "score = rmse(y_val, y_pred)\n",
    "print(score)"
   ]
  },
  {
   "cell_type": "code",
   "execution_count": 189,
   "id": "a0fb458e-882c-47bd-a0ea-8f2ab659f446",
   "metadata": {},
   "outputs": [
    {
     "data": {
      "text/plain": [
       "np.float64(0.0)"
      ]
     },
     "execution_count": 189,
     "metadata": {},
     "output_type": "execute_result"
    }
   ],
   "source": [
    "np.std(score)"
   ]
  },
  {
   "cell_type": "markdown",
   "id": "d2f9b1cf-a098-4025-bd54-ff0c78490794",
   "metadata": {},
   "source": [
    "# Question 5 \n",
    "\n",
    "We used seed 42 for splitting the data. Let's find out how selecting the seed influences our score.\n",
    "Try different seed values: [0, 1, 2, 3, 4, 5, 6, 7, 8, 9].\n",
    "\n",
    "For each seed, do the train/validation/test split with 60%/20%/20% distribution.\n",
    "\n",
    "Fill the missing values with 0 and train a model without regularization.\n",
    "\n",
    "For each seed, evaluate the model on the validation dataset and collect the RMSE scores.\n",
    "\n",
    "What's the standard deviation of all the scores? To compute the standard deviation, use np.std.\n",
    "Round the result to 3 decimal digits (round(std, 3))\n"
   ]
  },
  {
   "cell_type": "code",
   "execution_count": 193,
   "id": "1c8b6ae2-5e75-4fce-84f4-ad541a9ec180",
   "metadata": {},
   "outputs": [],
   "source": [
    "def train_linear_regression(X, y):\n",
    "    ones = np.ones(X.shape[0])\n",
    "    X = np.column_stack([ones, X])\n",
    "\n",
    "    XTX = X.T.dot(X)\n",
    "    XTX_inv = np.linalg.inv(XTX)\n",
    "    w_full = XTX_inv.dot(X.T).dot(y)\n",
    "    \n",
    "    return w_full[0], w_full[1:]\n",
    "\n"
   ]
  },
  {
   "cell_type": "code",
   "execution_count": 194,
   "id": "1894de92-ea18-430c-a529-d05138abd67f",
   "metadata": {},
   "outputs": [],
   "source": [
    "def prepare_X(df):\n",
    "    # selecting num columns\n",
    "    df_num=df[base]\n",
    "    # filling missed values\n",
    "    df_num = df_num.fillna(0)\n",
    "    # extracting values into an array\n",
    "    X=  df_num.values\n",
    "    return X"
   ]
  },
  {
   "cell_type": "code",
   "execution_count": 202,
   "id": "647560bf-9676-4d5e-ba18-f4a624f45b43",
   "metadata": {},
   "outputs": [],
   "source": [
    "# For each seed, do the train/validation/test split with 60%/20%/20% distribution.\n",
    "n = len(df2)\n",
    "\n",
    "n_val = int(n * 0.2)\n",
    "n_test = int(n * 0.2)\n",
    "n_train = n - n_val - n_test\n",
    "n_val, n_test, n_train\n",
    "\n",
    "df_train = df2.iloc[:n_train]\n",
    "df_val = df2.iloc[n_train:n_train+n_val]\n",
    "df_test = df2.iloc[n_train+n_val:]\n",
    "\n",
    "\n",
    "\n",
    "scores=[]"
   ]
  },
  {
   "cell_type": "code",
   "execution_count": 207,
   "id": "27f7cc3d-9f0b-4ace-b05a-6dff5bcec264",
   "metadata": {},
   "outputs": [
    {
     "name": "stdout",
     "output_type": "stream",
     "text": [
      "seed :  0               rmse:  0.521\n",
      "seed :  1               rmse:  0.521\n",
      "seed :  2               rmse:  0.523\n",
      "seed :  3               rmse:  0.516\n",
      "seed :  4               rmse:  0.511\n",
      "seed :  5               rmse:  0.528\n",
      "seed :  6               rmse:  0.531\n",
      "seed :  7               rmse:  0.509\n",
      "seed :  8               rmse:  0.515\n",
      "seed :  9               rmse:  0.513\n"
     ]
    }
   ],
   "source": [
    "# seed values [0, 1, 2, 3, 4, 5, 6, 7, 8, 9].\n",
    "for s in  [0, 1, 2, 3, 4, 5, 6, 7, 8, 9]:\n",
    "    idx = np.arange(n)\n",
    "    np.random.seed(s)\n",
    "    np.random.shuffle(idx)\n",
    "\n",
    "    df_train = df2.iloc[idx[:n_train]]\n",
    "    df_val = df2.iloc[idx[n_train:n_train+n_val]]\n",
    "    df_test = df2.iloc[idx[n_train+n_val:]]\n",
    "\n",
    "\n",
    "    df_train = df_train.reset_index(drop=True)\n",
    "    df_val = df_val.reset_index(drop=True)\n",
    "    df_test = df_test.reset_index(drop=True)\n",
    "\n",
    "    y_train = df_train.fuel_efficiency_mpg.values\n",
    "    y_val = df_val.fuel_efficiency_mpg.values\n",
    "    y_test = df_test.fuel_efficiency_mpg.values\n",
    "\n",
    "    # now get the scores\n",
    "    X_train = prepare_X(df_train)\n",
    "    w0, w = train_linear_regression(X_train, y_train)\n",
    " \n",
    "    X_val = prepare_X(df_val)\n",
    "    y_pred = w0 + X_val.dot(w)\n",
    "     \n",
    "    score = round(rmse(y_val, y_pred), 3)\n",
    "    \n",
    "    scores.append(score)\n",
    "    #print(round(score,2))\n",
    "    print(\"seed : \",s, \"              rmse: \",score)"
   ]
  },
  {
   "cell_type": "code",
   "execution_count": 198,
   "id": "455db74d-f9a9-488f-8251-8b5511b9c3ef",
   "metadata": {},
   "outputs": [
    {
     "data": {
      "text/plain": [
       "np.float64(0.5206531296297207)"
      ]
     },
     "execution_count": 198,
     "metadata": {},
     "output_type": "execute_result"
    }
   ],
   "source": [
    "X_train = prepare_X(df_train)\n",
    "w0, w = train_linear_regression(X_train, y_train)\n",
    " \n",
    "X_val = prepare_X(df_val)\n",
    "y_pred = w0 + X_val.dot(w)\n",
    " \n",
    "score = rmse(y_val, y_pred)\n",
    "score     \n",
    "#print(\"reg parameter: \",r, \"bias term: \",w0, \"rmse: \",score)"
   ]
  },
  {
   "cell_type": "code",
   "execution_count": 208,
   "id": "f25a221e-3271-43b5-9f01-3243d61a572f",
   "metadata": {},
   "outputs": [
    {
     "name": "stdout",
     "output_type": "stream",
     "text": [
      "[np.float64(0.5206531296297207), np.float64(0.5213388912866506), np.float64(0.5228069974913666), np.float64(0.5159516741255491), np.float64(0.5109129460116937), np.float64(0.5283406460212935), np.float64(0.5313910658190373), np.float64(0.509067038739038), np.float64(0.5147399129482789), np.float64(0.513186590829269), np.float64(0.5206531296297207), np.float64(0.5213388912866506), np.float64(0.5228069974913666), np.float64(0.5159516741255491), np.float64(0.5109129460116937), np.float64(0.5283406460212935), np.float64(0.5313910658190373), np.float64(0.509067038739038), np.float64(0.5147399129482789), np.float64(0.513186590829269), np.float64(0.521), np.float64(0.521), np.float64(0.523), np.float64(0.516), np.float64(0.511), np.float64(0.528), np.float64(0.531), np.float64(0.509), np.float64(0.515), np.float64(0.513)]\n"
     ]
    }
   ],
   "source": [
    "print(scores)"
   ]
  },
  {
   "cell_type": "code",
   "execution_count": 210,
   "id": "83587f8f-6d65-45a6-bd7a-b8feb67c91ba",
   "metadata": {},
   "outputs": [
    {
     "data": {
      "text/plain": [
       "np.float64(0.007)"
      ]
     },
     "execution_count": 210,
     "metadata": {},
     "output_type": "execute_result"
    }
   ],
   "source": [
    "round(np.std(scores),3)"
   ]
  },
  {
   "cell_type": "code",
   "execution_count": null,
   "id": "92e42e43-a449-415a-b8d8-2ec7d457b170",
   "metadata": {},
   "outputs": [],
   "source": [
    "\n",
    "\n"
   ]
  },
  {
   "cell_type": "markdown",
   "id": "279e19d5-26b9-4253-b241-6c11e7521c78",
   "metadata": {},
   "source": [
    "# Question 6\n",
    "Split the dataset like previously, use seed 9.\n",
    "\n",
    "Combine train and validation datasets.\n",
    "\n",
    "Fill the missing values with 0 and train a model with r=0.001.\n",
    "\n",
    "What's the RMSE on the test dataset?\n",
    "\n",
    "Options:\n",
    "\n",
    "0.15\n",
    "0.515\n",
    "5.15\n",
    "51.5"
   ]
  },
  {
   "cell_type": "markdown",
   "id": "6f69ed26-f380-4d6a-b3c6-3e0f43028b34",
   "metadata": {},
   "source": [
    "#### 2.15 Using the model\n"
   ]
  },
  {
   "cell_type": "code",
   "execution_count": 212,
   "id": "ee53d82e-adb9-4317-80ac-5646bc2c4fa2",
   "metadata": {},
   "outputs": [
    {
     "data": {
      "text/html": [
       "<div>\n",
       "<style scoped>\n",
       "    .dataframe tbody tr th:only-of-type {\n",
       "        vertical-align: middle;\n",
       "    }\n",
       "\n",
       "    .dataframe tbody tr th {\n",
       "        vertical-align: top;\n",
       "    }\n",
       "\n",
       "    .dataframe thead th {\n",
       "        text-align: right;\n",
       "    }\n",
       "</style>\n",
       "<table border=\"1\" class=\"dataframe\">\n",
       "  <thead>\n",
       "    <tr style=\"text-align: right;\">\n",
       "      <th></th>\n",
       "      <th>engine_displacement</th>\n",
       "      <th>horsepower</th>\n",
       "      <th>vehicle_weight</th>\n",
       "      <th>model_year</th>\n",
       "      <th>fuel_efficiency_mpg</th>\n",
       "    </tr>\n",
       "  </thead>\n",
       "  <tbody>\n",
       "    <tr>\n",
       "      <th>0</th>\n",
       "      <td>240</td>\n",
       "      <td>136.0</td>\n",
       "      <td>4050.512290</td>\n",
       "      <td>2006</td>\n",
       "      <td>10.304700</td>\n",
       "    </tr>\n",
       "    <tr>\n",
       "      <th>1</th>\n",
       "      <td>190</td>\n",
       "      <td>141.0</td>\n",
       "      <td>3195.866942</td>\n",
       "      <td>2017</td>\n",
       "      <td>13.479434</td>\n",
       "    </tr>\n",
       "    <tr>\n",
       "      <th>2</th>\n",
       "      <td>200</td>\n",
       "      <td>184.0</td>\n",
       "      <td>3006.164370</td>\n",
       "      <td>2017</td>\n",
       "      <td>16.190653</td>\n",
       "    </tr>\n",
       "    <tr>\n",
       "      <th>3</th>\n",
       "      <td>200</td>\n",
       "      <td>NaN</td>\n",
       "      <td>2947.143980</td>\n",
       "      <td>2022</td>\n",
       "      <td>15.446503</td>\n",
       "    </tr>\n",
       "    <tr>\n",
       "      <th>4</th>\n",
       "      <td>250</td>\n",
       "      <td>132.0</td>\n",
       "      <td>3114.371978</td>\n",
       "      <td>2001</td>\n",
       "      <td>14.472172</td>\n",
       "    </tr>\n",
       "  </tbody>\n",
       "</table>\n",
       "</div>"
      ],
      "text/plain": [
       "   engine_displacement  horsepower  vehicle_weight  model_year  \\\n",
       "0                  240       136.0     4050.512290        2006   \n",
       "1                  190       141.0     3195.866942        2017   \n",
       "2                  200       184.0     3006.164370        2017   \n",
       "3                  200         NaN     2947.143980        2022   \n",
       "4                  250       132.0     3114.371978        2001   \n",
       "\n",
       "   fuel_efficiency_mpg  \n",
       "0            10.304700  \n",
       "1            13.479434  \n",
       "2            16.190653  \n",
       "3            15.446503  \n",
       "4            14.472172  "
      ]
     },
     "execution_count": 212,
     "metadata": {},
     "output_type": "execute_result"
    }
   ],
   "source": [
    "df_full_train= pd.concat([df_train, df_val])\n",
    "df_full_train.shape\n",
    "df_full_train.head()\n"
   ]
  },
  {
   "cell_type": "code",
   "execution_count": 213,
   "id": "72403ee3-7af4-43d7-8468-517bf0d7b67d",
   "metadata": {},
   "outputs": [],
   "source": [
    "X_full_train  = prepare_X(df_full_train)"
   ]
  },
  {
   "cell_type": "code",
   "execution_count": 215,
   "id": "921e40f9-2578-4506-b19d-f9f31f365f55",
   "metadata": {},
   "outputs": [
    {
     "data": {
      "text/plain": [
       "array([[ 240.        ,  136.        , 4050.51228957, 2006.        ],\n",
       "       [ 190.        ,  141.        , 3195.86694158, 2017.        ],\n",
       "       [ 200.        ,  184.        , 3006.16436968, 2017.        ],\n",
       "       ...,\n",
       "       [ 180.        ,  154.        , 3346.96567067, 2018.        ],\n",
       "       [ 210.        ,  152.        , 2500.17568746, 2020.        ],\n",
       "       [ 260.        ,  174.        , 2702.25730066, 2011.        ]],\n",
       "      shape=(7764, 4))"
      ]
     },
     "execution_count": 215,
     "metadata": {},
     "output_type": "execute_result"
    }
   ],
   "source": [
    "X_full_train  "
   ]
  },
  {
   "cell_type": "code",
   "execution_count": 217,
   "id": "07c939bc-0c61-4092-9fd7-547ec6d26f78",
   "metadata": {},
   "outputs": [],
   "source": [
    "y_full_train = np.concatenate([y_train, y_val])"
   ]
  },
  {
   "cell_type": "code",
   "execution_count": null,
   "id": "ccd4d1e3-3dec-4292-8eec-ec568e34ce14",
   "metadata": {},
   "outputs": [],
   "source": []
  },
  {
   "cell_type": "code",
   "execution_count": 218,
   "id": "c37a233e-c16c-4600-b1d2-df20f62c8119",
   "metadata": {},
   "outputs": [],
   "source": [
    "w0, w = train_linear_regression_reg(X_full_train,y_full_train, 0.001)\n"
   ]
  },
  {
   "cell_type": "code",
   "execution_count": 220,
   "id": "d8721775-14ad-48ef-a161-1ac4a7d65278",
   "metadata": {},
   "outputs": [
    {
     "data": {
      "text/plain": [
       "(np.float64(26.946834793073375),\n",
       " array([ 1.45147512e-05,  3.56475200e-03, -5.01712541e-03,  1.29155334e-03]))"
      ]
     },
     "execution_count": 220,
     "metadata": {},
     "output_type": "execute_result"
    }
   ],
   "source": [
    "w0, w"
   ]
  },
  {
   "cell_type": "code",
   "execution_count": 221,
   "id": "02377c22-0016-434d-a995-8973a5c290bc",
   "metadata": {},
   "outputs": [],
   "source": [
    "# now we do the same with testing dataset"
   ]
  },
  {
   "cell_type": "code",
   "execution_count": 222,
   "id": "1d3662f2-324b-4989-8bf3-2f6cef8d5906",
   "metadata": {},
   "outputs": [
    {
     "data": {
      "text/plain": [
       "np.float64(0.5156261299185628)"
      ]
     },
     "execution_count": 222,
     "metadata": {},
     "output_type": "execute_result"
    }
   ],
   "source": [
    "X_test = prepare_X(df_test)\n",
    "y_pred = w0+ X_test.dot(w)\n",
    "score = rmse(y_test, y_pred)\n",
    "score"
   ]
  },
  {
   "cell_type": "code",
   "execution_count": null,
   "id": "f032eb75-de5e-409b-9f6d-d83a6d7c1fce",
   "metadata": {},
   "outputs": [],
   "source": [
    "#### 2.15 Using the model\n"
   ]
  }
 ],
 "metadata": {
  "kernelspec": {
   "display_name": "Python 3 (ipykernel)",
   "language": "python",
   "name": "python3"
  },
  "language_info": {
   "codemirror_mode": {
    "name": "ipython",
    "version": 3
   },
   "file_extension": ".py",
   "mimetype": "text/x-python",
   "name": "python",
   "nbconvert_exporter": "python",
   "pygments_lexer": "ipython3",
   "version": "3.10.18"
  }
 },
 "nbformat": 4,
 "nbformat_minor": 5
}
