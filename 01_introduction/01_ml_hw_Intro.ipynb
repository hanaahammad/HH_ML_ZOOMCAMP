{
 "cells": [
  {
   "cell_type": "markdown",
   "id": "fb192422-806b-42a3-9e58-3eccb0b1588d",
   "metadata": {
    "jp-MarkdownHeadingCollapsed": true
   },
   "source": [
    "# Q1. Pandas version\n"
   ]
  },
  {
   "cell_type": "code",
   "execution_count": 1,
   "id": "f3c1302a-4c93-4807-85b0-78352e0e1a2d",
   "metadata": {},
   "outputs": [],
   "source": [
    "import pandas as pd\n"
   ]
  },
  {
   "cell_type": "code",
   "execution_count": 2,
   "id": "fb312a28-9229-4320-be52-f3e8f092eee3",
   "metadata": {},
   "outputs": [
    {
     "name": "stdout",
     "output_type": "stream",
     "text": [
      "2.3.2\n"
     ]
    }
   ],
   "source": [
    "print(pd.__version__)\n",
    "\n"
   ]
  },
  {
   "cell_type": "markdown",
   "id": "9e297c97-66d0-43e5-a10e-7a7edf34e732",
   "metadata": {
    "jp-MarkdownHeadingCollapsed": true
   },
   "source": [
    "# Q2. Records count\n"
   ]
  },
  {
   "cell_type": "code",
   "execution_count": 71,
   "id": "fab37470-515c-4eaf-811a-bbe033a3a952",
   "metadata": {
    "scrolled": true
   },
   "outputs": [
    {
     "name": "stdout",
     "output_type": "stream",
     "text": [
      "(9704, 11)\n"
     ]
    }
   ],
   "source": [
    "\n",
    "data =  pd.read_csv(\"car_fuel_efficiency.csv\")\n",
    "print(data.shape)\n",
    "\n"
   ]
  },
  {
   "cell_type": "markdown",
   "id": "c587047e-8ed3-4d75-9df2-ba0ec7d64f47",
   "metadata": {
    "jp-MarkdownHeadingCollapsed": true
   },
   "source": [
    "# Q3. Fuel types\n"
   ]
  },
  {
   "cell_type": "code",
   "execution_count": 23,
   "id": "7ec10774-c808-4179-a5a6-3d33a505da36",
   "metadata": {},
   "outputs": [
    {
     "name": "stdout",
     "output_type": "stream",
     "text": [
      "Index(['engine_displacement', 'num_cylinders', 'horsepower', 'vehicle_weight',\n",
      "       'acceleration', 'model_year', 'origin', 'fuel_type', 'drivetrain',\n",
      "       'num_doors', 'fuel_efficiency_mpg'],\n",
      "      dtype='object')\n"
     ]
    }
   ],
   "source": [
    "\n",
    "print(data.columns)\n",
    "\n",
    "fuel_types = list(data['fuel_type'].unique())"
   ]
  },
  {
   "cell_type": "code",
   "execution_count": 24,
   "id": "df6ba1c7-8dcf-409f-8333-a0f531ba1887",
   "metadata": {},
   "outputs": [
    {
     "data": {
      "text/plain": [
       "2"
      ]
     },
     "execution_count": 24,
     "metadata": {},
     "output_type": "execute_result"
    }
   ],
   "source": [
    "len(fuel_types)"
   ]
  },
  {
   "cell_type": "markdown",
   "id": "c27d7a53-6f0b-44a8-97f1-d2c48b2955e4",
   "metadata": {
    "jp-MarkdownHeadingCollapsed": true
   },
   "source": [
    "# Q4. Missing values\n",
    "How many columns in the dataset have missing values?\n",
    "\n"
   ]
  },
  {
   "cell_type": "code",
   "execution_count": 25,
   "id": "a9892335-f5af-444f-962f-350d9a81d9a8",
   "metadata": {},
   "outputs": [
    {
     "data": {
      "text/plain": [
       "pandas.core.frame.DataFrame"
      ]
     },
     "execution_count": 25,
     "metadata": {},
     "output_type": "execute_result"
    }
   ],
   "source": [
    "type(data)"
   ]
  },
  {
   "cell_type": "code",
   "execution_count": 26,
   "id": "01329c61-af18-4f1f-97de-3bb679542e4f",
   "metadata": {},
   "outputs": [
    {
     "data": {
      "text/plain": [
       "engine_displacement      0\n",
       "num_cylinders          482\n",
       "horsepower             708\n",
       "vehicle_weight           0\n",
       "acceleration           930\n",
       "model_year               0\n",
       "origin                   0\n",
       "fuel_type                0\n",
       "drivetrain               0\n",
       "num_doors              502\n",
       "fuel_efficiency_mpg      0\n",
       "dtype: int64"
      ]
     },
     "execution_count": 26,
     "metadata": {},
     "output_type": "execute_result"
    }
   ],
   "source": [
    "data.isna().sum()"
   ]
  },
  {
   "cell_type": "code",
   "execution_count": 27,
   "id": "96814a80-9f0e-4a0b-a3ac-9ad471e5b48f",
   "metadata": {},
   "outputs": [
    {
     "data": {
      "text/plain": [
       "engine_displacement    False\n",
       "num_cylinders           True\n",
       "horsepower              True\n",
       "vehicle_weight         False\n",
       "acceleration            True\n",
       "model_year             False\n",
       "origin                 False\n",
       "fuel_type              False\n",
       "drivetrain             False\n",
       "num_doors               True\n",
       "fuel_efficiency_mpg    False\n",
       "dtype: bool"
      ]
     },
     "execution_count": 27,
     "metadata": {},
     "output_type": "execute_result"
    }
   ],
   "source": [
    "columns_with_missing_indicator =data.isna().any()\n",
    "columns_with_missing_indicator"
   ]
  },
  {
   "cell_type": "code",
   "execution_count": 29,
   "id": "59607e81-95bf-4f98-be09-a01fb6345a2c",
   "metadata": {},
   "outputs": [
    {
     "data": {
      "text/plain": [
       "pandas.core.series.Series"
      ]
     },
     "execution_count": 29,
     "metadata": {},
     "output_type": "execute_result"
    }
   ],
   "source": [
    "type(columns_with_missing_indicator)"
   ]
  },
  {
   "cell_type": "code",
   "execution_count": 31,
   "id": "c8422c66-f006-497e-8ab9-07ac75cbdba1",
   "metadata": {},
   "outputs": [
    {
     "data": {
      "text/plain": [
       "count    9202.000000\n",
       "mean       -0.006412\n",
       "std         1.048162\n",
       "min        -4.000000\n",
       "25%        -1.000000\n",
       "50%         0.000000\n",
       "75%         1.000000\n",
       "max         4.000000\n",
       "Name: num_doors, dtype: float64"
      ]
     },
     "execution_count": 31,
     "metadata": {},
     "output_type": "execute_result"
    }
   ],
   "source": [
    "data['num_doors'].describe()"
   ]
  },
  {
   "cell_type": "markdown",
   "id": "b968733d-e08f-4fa3-a60b-bf2b9f514911",
   "metadata": {
    "jp-MarkdownHeadingCollapsed": true
   },
   "source": [
    "# Q5. Max fuel efficiency\n",
    "What's the maximum fuel efficiency of cars from Asia?\n",
    "\n"
   ]
  },
  {
   "cell_type": "code",
   "execution_count": 32,
   "id": "6f071482-2cdf-4ab7-b34c-0591b8c04f0d",
   "metadata": {},
   "outputs": [
    {
     "data": {
      "text/plain": [
       "Index(['engine_displacement', 'num_cylinders', 'horsepower', 'vehicle_weight',\n",
       "       'acceleration', 'model_year', 'origin', 'fuel_type', 'drivetrain',\n",
       "       'num_doors', 'fuel_efficiency_mpg'],\n",
       "      dtype='object')"
      ]
     },
     "execution_count": 32,
     "metadata": {},
     "output_type": "execute_result"
    }
   ],
   "source": [
    "data.columns"
   ]
  },
  {
   "cell_type": "code",
   "execution_count": 33,
   "id": "97b86b27-1463-4cbb-b3d8-1b5ade423d31",
   "metadata": {},
   "outputs": [
    {
     "data": {
      "text/plain": [
       "0       Europe\n",
       "1          USA\n",
       "2       Europe\n",
       "3          USA\n",
       "4       Europe\n",
       "         ...  \n",
       "9699    Europe\n",
       "9700       USA\n",
       "9701       USA\n",
       "9702       USA\n",
       "9703      Asia\n",
       "Name: origin, Length: 9704, dtype: object"
      ]
     },
     "execution_count": 33,
     "metadata": {},
     "output_type": "execute_result"
    }
   ],
   "source": [
    "data['origin']"
   ]
  },
  {
   "cell_type": "code",
   "execution_count": 36,
   "id": "a0603a1a-113d-48ba-bc2d-70b565464f1f",
   "metadata": {
    "scrolled": true
   },
   "outputs": [
    {
     "data": {
      "text/html": [
       "<div>\n",
       "<style scoped>\n",
       "    .dataframe tbody tr th:only-of-type {\n",
       "        vertical-align: middle;\n",
       "    }\n",
       "\n",
       "    .dataframe tbody tr th {\n",
       "        vertical-align: top;\n",
       "    }\n",
       "\n",
       "    .dataframe thead th {\n",
       "        text-align: right;\n",
       "    }\n",
       "</style>\n",
       "<table border=\"1\" class=\"dataframe\">\n",
       "  <thead>\n",
       "    <tr style=\"text-align: right;\">\n",
       "      <th></th>\n",
       "      <th>engine_displacement</th>\n",
       "      <th>num_cylinders</th>\n",
       "      <th>horsepower</th>\n",
       "      <th>vehicle_weight</th>\n",
       "      <th>acceleration</th>\n",
       "      <th>model_year</th>\n",
       "      <th>origin</th>\n",
       "      <th>fuel_type</th>\n",
       "      <th>drivetrain</th>\n",
       "      <th>num_doors</th>\n",
       "      <th>fuel_efficiency_mpg</th>\n",
       "    </tr>\n",
       "  </thead>\n",
       "  <tbody>\n",
       "    <tr>\n",
       "      <th>8</th>\n",
       "      <td>250</td>\n",
       "      <td>1.0</td>\n",
       "      <td>174.0</td>\n",
       "      <td>2714.219310</td>\n",
       "      <td>10.3</td>\n",
       "      <td>2016</td>\n",
       "      <td>Asia</td>\n",
       "      <td>Diesel</td>\n",
       "      <td>Front-wheel drive</td>\n",
       "      <td>-1.0</td>\n",
       "      <td>16.823554</td>\n",
       "    </tr>\n",
       "    <tr>\n",
       "      <th>12</th>\n",
       "      <td>320</td>\n",
       "      <td>5.0</td>\n",
       "      <td>145.0</td>\n",
       "      <td>2783.868974</td>\n",
       "      <td>15.1</td>\n",
       "      <td>2010</td>\n",
       "      <td>Asia</td>\n",
       "      <td>Diesel</td>\n",
       "      <td>All-wheel drive</td>\n",
       "      <td>1.0</td>\n",
       "      <td>16.175820</td>\n",
       "    </tr>\n",
       "    <tr>\n",
       "      <th>14</th>\n",
       "      <td>200</td>\n",
       "      <td>6.0</td>\n",
       "      <td>160.0</td>\n",
       "      <td>3582.687368</td>\n",
       "      <td>14.9</td>\n",
       "      <td>2007</td>\n",
       "      <td>Asia</td>\n",
       "      <td>Diesel</td>\n",
       "      <td>All-wheel drive</td>\n",
       "      <td>0.0</td>\n",
       "      <td>11.871091</td>\n",
       "    </tr>\n",
       "    <tr>\n",
       "      <th>20</th>\n",
       "      <td>150</td>\n",
       "      <td>3.0</td>\n",
       "      <td>197.0</td>\n",
       "      <td>2231.808142</td>\n",
       "      <td>18.7</td>\n",
       "      <td>2011</td>\n",
       "      <td>Asia</td>\n",
       "      <td>Gasoline</td>\n",
       "      <td>Front-wheel drive</td>\n",
       "      <td>1.0</td>\n",
       "      <td>18.889083</td>\n",
       "    </tr>\n",
       "    <tr>\n",
       "      <th>21</th>\n",
       "      <td>160</td>\n",
       "      <td>4.0</td>\n",
       "      <td>133.0</td>\n",
       "      <td>2659.431451</td>\n",
       "      <td>NaN</td>\n",
       "      <td>2016</td>\n",
       "      <td>Asia</td>\n",
       "      <td>Gasoline</td>\n",
       "      <td>Front-wheel drive</td>\n",
       "      <td>-1.0</td>\n",
       "      <td>16.077730</td>\n",
       "    </tr>\n",
       "  </tbody>\n",
       "</table>\n",
       "</div>"
      ],
      "text/plain": [
       "    engine_displacement  num_cylinders  horsepower  vehicle_weight  \\\n",
       "8                   250            1.0       174.0     2714.219310   \n",
       "12                  320            5.0       145.0     2783.868974   \n",
       "14                  200            6.0       160.0     3582.687368   \n",
       "20                  150            3.0       197.0     2231.808142   \n",
       "21                  160            4.0       133.0     2659.431451   \n",
       "\n",
       "    acceleration  model_year origin fuel_type         drivetrain  num_doors  \\\n",
       "8           10.3        2016   Asia    Diesel  Front-wheel drive       -1.0   \n",
       "12          15.1        2010   Asia    Diesel    All-wheel drive        1.0   \n",
       "14          14.9        2007   Asia    Diesel    All-wheel drive        0.0   \n",
       "20          18.7        2011   Asia  Gasoline  Front-wheel drive        1.0   \n",
       "21           NaN        2016   Asia  Gasoline  Front-wheel drive       -1.0   \n",
       "\n",
       "    fuel_efficiency_mpg  \n",
       "8             16.823554  \n",
       "12            16.175820  \n",
       "14            11.871091  \n",
       "20            18.889083  \n",
       "21            16.077730  "
      ]
     },
     "execution_count": 36,
     "metadata": {},
     "output_type": "execute_result"
    }
   ],
   "source": [
    "data_asia = data[data['origin'] == 'Asia']\n",
    "data_asia.head()"
   ]
  },
  {
   "cell_type": "code",
   "execution_count": 37,
   "id": "45f1df15-9732-4f44-8562-a11d9efd5b82",
   "metadata": {},
   "outputs": [
    {
     "data": {
      "text/plain": [
       "23.759122836520497"
      ]
     },
     "execution_count": 37,
     "metadata": {},
     "output_type": "execute_result"
    }
   ],
   "source": [
    "data_asia['fuel_efficiency_mpg'].max()"
   ]
  },
  {
   "cell_type": "markdown",
   "id": "9b36663f-d53c-4514-ba0d-bfe282924a90",
   "metadata": {
    "jp-MarkdownHeadingCollapsed": true
   },
   "source": [
    "# Q6. Median value of horsepower\n",
    "Find the median value of horsepower column in the dataset.\n",
    "\n",
    "Next, calculate the most frequent value of the same horsepower column.\n",
    "\n",
    "Use fillna method to fill the missing values in horsepower column with the most frequent value from the previous step.\n",
    "\n",
    "Now, calculate the median value of horsepower once again.\n",
    "\n",
    "Has it changed?\n",
    "\n",
    "Yes, it increased\n",
    "Yes, it decreased\n",
    "No\n"
   ]
  },
  {
   "cell_type": "code",
   "execution_count": 72,
   "id": "07eb8d4c-e6fc-43e6-ac05-104b7e7240ca",
   "metadata": {},
   "outputs": [
    {
     "data": {
      "text/plain": [
       "Index(['engine_displacement', 'num_cylinders', 'horsepower', 'vehicle_weight',\n",
       "       'acceleration', 'model_year', 'origin', 'fuel_type', 'drivetrain',\n",
       "       'num_doors', 'fuel_efficiency_mpg'],\n",
       "      dtype='object')"
      ]
     },
     "execution_count": 72,
     "metadata": {},
     "output_type": "execute_result"
    }
   ],
   "source": [
    "data.columns"
   ]
  },
  {
   "cell_type": "code",
   "execution_count": 73,
   "id": "48452745-dce4-4e26-ad96-9fcba8876485",
   "metadata": {},
   "outputs": [
    {
     "data": {
      "text/plain": [
       "149.0"
      ]
     },
     "execution_count": 73,
     "metadata": {},
     "output_type": "execute_result"
    }
   ],
   "source": [
    "data['horsepower'].median()"
   ]
  },
  {
   "cell_type": "markdown",
   "id": "017e88f7-0bb5-48e9-864a-328f33a170b7",
   "metadata": {
    "jp-MarkdownHeadingCollapsed": true
   },
   "source": [
    "#### Next, calculate the most frequent value of the same horsepower column.\n",
    "\n"
   ]
  },
  {
   "cell_type": "code",
   "execution_count": 74,
   "id": "f557f819-90be-41b1-a510-af10948617db",
   "metadata": {},
   "outputs": [
    {
     "data": {
      "text/plain": [
       "0    152.0\n",
       "Name: horsepower, dtype: float64"
      ]
     },
     "execution_count": 74,
     "metadata": {},
     "output_type": "execute_result"
    }
   ],
   "source": [
    "data['horsepower'].mode()"
   ]
  },
  {
   "cell_type": "code",
   "execution_count": 75,
   "id": "489fb40f-3b75-400b-af11-36b634d83d79",
   "metadata": {},
   "outputs": [
    {
     "data": {
      "text/plain": [
       "count    8996.000000\n",
       "mean      149.657292\n",
       "std        29.879555\n",
       "min        37.000000\n",
       "25%       130.000000\n",
       "50%       149.000000\n",
       "75%       170.000000\n",
       "max       271.000000\n",
       "Name: horsepower, dtype: float64"
      ]
     },
     "execution_count": 75,
     "metadata": {},
     "output_type": "execute_result"
    }
   ],
   "source": [
    "data['horsepower'].describe()"
   ]
  },
  {
   "cell_type": "code",
   "execution_count": 76,
   "id": "d7e494a9-e246-4a82-b834-9e83be23d03a",
   "metadata": {},
   "outputs": [
    {
     "data": {
      "text/plain": [
       "horsepower\n",
       "152.0    142\n",
       "145.0    141\n",
       "151.0    134\n",
       "148.0    130\n",
       "141.0    130\n",
       "        ... \n",
       "46.0       1\n",
       "43.0       1\n",
       "53.0       1\n",
       "66.0       1\n",
       "61.0       1\n",
       "Name: count, Length: 192, dtype: int64"
      ]
     },
     "execution_count": 76,
     "metadata": {},
     "output_type": "execute_result"
    }
   ],
   "source": [
    "data['horsepower'].value_counts()"
   ]
  },
  {
   "cell_type": "code",
   "execution_count": 77,
   "id": "7772c0c0-4baa-4bbd-a2d1-3b8d16a17c20",
   "metadata": {},
   "outputs": [
    {
     "data": {
      "text/plain": [
       "np.float64(152.0)"
      ]
     },
     "execution_count": 77,
     "metadata": {},
     "output_type": "execute_result"
    }
   ],
   "source": [
    "most_frequent_value = data['horsepower'].mode()\n",
    "most_frequent_value[0]"
   ]
  },
  {
   "cell_type": "markdown",
   "id": "9bc43d1e-0ae1-4e5e-8325-169483be87e4",
   "metadata": {
    "jp-MarkdownHeadingCollapsed": true
   },
   "source": [
    "#### Use fillna method to fill the missing values in horsepower column with the most frequent value from the previous step.\n",
    "\n"
   ]
  },
  {
   "cell_type": "code",
   "execution_count": 80,
   "id": "0edbf05c-fbf9-478c-a990-d4b4e73fcfb5",
   "metadata": {},
   "outputs": [
    {
     "name": "stdout",
     "output_type": "stream",
     "text": [
      "\n",
      "DataFrame after filling all NaNs with column-wise modes:\n",
      "0       159.0\n",
      "1        97.0\n",
      "2        78.0\n",
      "3       152.0\n",
      "4       140.0\n",
      "        ...  \n",
      "9699    164.0\n",
      "9700    154.0\n",
      "9701    138.0\n",
      "9702    177.0\n",
      "9703    140.0\n",
      "Name: horsepower, Length: 9704, dtype: float64\n"
     ]
    }
   ],
   "source": [
    "\n",
    "# Fill missing values in all columns with their respective modes\n",
    "horse_power_filled_with_mode = data['horsepower'].fillna(data['horsepower'].mode()[0])\n",
    "\n",
    "print(\"\\nDataFrame after filling all NaNs with column-wise modes:\")\n",
    "print(horse_power_filled_with_mode)"
   ]
  },
  {
   "cell_type": "code",
   "execution_count": 82,
   "id": "c10729ef-36b6-4ded-8f03-8f61c7551fec",
   "metadata": {},
   "outputs": [
    {
     "data": {
      "text/plain": [
       "0       159.0\n",
       "1        97.0\n",
       "2        78.0\n",
       "3       152.0\n",
       "4       140.0\n",
       "        ...  \n",
       "9699    164.0\n",
       "9700    154.0\n",
       "9701    138.0\n",
       "9702    177.0\n",
       "9703    140.0\n",
       "Name: horsepower, Length: 9704, dtype: float64"
      ]
     },
     "execution_count": 82,
     "metadata": {},
     "output_type": "execute_result"
    }
   ],
   "source": [
    "data['horsepower']=horse_power_filled_with_mode\n",
    "data['horsepower']"
   ]
  },
  {
   "cell_type": "markdown",
   "id": "840f656c-c0d1-4e2a-81c9-5c8ab2cd4af6",
   "metadata": {
    "jp-MarkdownHeadingCollapsed": true
   },
   "source": [
    "#### Now, calculate the median value of horsepower once again.\n",
    "\n"
   ]
  },
  {
   "cell_type": "code",
   "execution_count": 83,
   "id": "201144b3-9da8-4c60-901a-bb3d00348747",
   "metadata": {},
   "outputs": [
    {
     "data": {
      "text/plain": [
       "152.0"
      ]
     },
     "execution_count": 83,
     "metadata": {},
     "output_type": "execute_result"
    }
   ],
   "source": [
    "data['horsepower'].median()"
   ]
  },
  {
   "cell_type": "markdown",
   "id": "44332073-55bd-4bc2-8d54-9ad0b469e9fa",
   "metadata": {},
   "source": [
    "Has it changed?\n",
    "\n",
    "Yes, it increased\n",
    "Yes, it decreased\n",
    "No"
   ]
  },
  {
   "cell_type": "markdown",
   "id": "b15dd21c-e220-48f6-996b-2a51ffc295d2",
   "metadata": {
    "jp-MarkdownHeadingCollapsed": true
   },
   "source": [
    "# Q7. Sum of weights\n",
    "Select all the cars from Asia\n",
    "\n",
    "Select only columns vehicle_weight and model_year\n",
    "\n",
    "Select the first 7 values\n",
    "\n",
    "Get the underlying NumPy array. Let's call it X.\n",
    "\n",
    "Compute matrix-matrix multiplication between the transpose of X and X. To get the transpose, use X.T. Let's call the result XTX.\n",
    "Invert XTX.\n",
    "\n",
    "Create an array y with values [1100, 1300, 800, 900, 1000, 1100, 1200].\n",
    "\n",
    "Multiply the inverse of XTX with the transpose of X, and then multiply the result by y. Call the result w.\n",
    "\n",
    "What's the sum of all the elements of the result?\n",
    "\n"
   ]
  },
  {
   "cell_type": "markdown",
   "id": "8a7c3ce7-6f05-4cc2-94ac-9b53808bf032",
   "metadata": {},
   "source": [
    "#### Select all the cars from Asia\n"
   ]
  },
  {
   "cell_type": "code",
   "execution_count": 147,
   "id": "4e16bbc1-6726-4393-aa44-0652df9b716a",
   "metadata": {},
   "outputs": [
    {
     "data": {
      "text/plain": [
       "(3247, 11)"
      ]
     },
     "execution_count": 147,
     "metadata": {},
     "output_type": "execute_result"
    }
   ],
   "source": [
    "data_asia = data[data['origin'] == 'Asia']\n",
    "data_asia.shape"
   ]
  },
  {
   "cell_type": "markdown",
   "id": "949fca12-1e2a-4549-bbd7-cd5fbf90eae6",
   "metadata": {},
   "source": [
    "#### Select only columns vehicle_weight and model_year\n"
   ]
  },
  {
   "cell_type": "code",
   "execution_count": 148,
   "id": "47f8fd17-a43d-4151-aeb0-c3eb69038fc2",
   "metadata": {},
   "outputs": [
    {
     "data": {
      "text/plain": [
       "Index(['engine_displacement', 'num_cylinders', 'horsepower', 'vehicle_weight',\n",
       "       'acceleration', 'model_year', 'origin', 'fuel_type', 'drivetrain',\n",
       "       'num_doors', 'fuel_efficiency_mpg'],\n",
       "      dtype='object')"
      ]
     },
     "execution_count": 148,
     "metadata": {},
     "output_type": "execute_result"
    }
   ],
   "source": [
    "data_asia.columns "
   ]
  },
  {
   "cell_type": "code",
   "execution_count": 149,
   "id": "7c4141b4-5814-44e0-bc39-a83c154314a2",
   "metadata": {},
   "outputs": [],
   "source": [
    "data_asia= data_asia[[ 'vehicle_weight','model_year']]"
   ]
  },
  {
   "cell_type": "code",
   "execution_count": 151,
   "id": "92fa2a5d-9758-4f12-ae8f-e9bd78835c2e",
   "metadata": {},
   "outputs": [
    {
     "data": {
      "text/plain": [
       "(Index(['vehicle_weight', 'model_year'], dtype='object'), (3247, 2))"
      ]
     },
     "execution_count": 151,
     "metadata": {},
     "output_type": "execute_result"
    }
   ],
   "source": [
    "data_asia.columns, data_asia.shape"
   ]
  },
  {
   "cell_type": "markdown",
   "id": "55eac8c9-1d59-460d-856b-40a0ecd83853",
   "metadata": {},
   "source": [
    "#### Select the first 7 values\n",
    "\n",
    "\n"
   ]
  },
  {
   "cell_type": "code",
   "execution_count": 152,
   "id": "f439c7cc-6bc1-44d6-b462-b2636923b707",
   "metadata": {},
   "outputs": [],
   "source": [
    "data_asia = data_asia.head(7)"
   ]
  },
  {
   "cell_type": "code",
   "execution_count": 153,
   "id": "e01b9c94-693a-43cf-8eae-6b724e353bec",
   "metadata": {},
   "outputs": [
    {
     "data": {
      "text/plain": [
       "(7, 2)"
      ]
     },
     "execution_count": 153,
     "metadata": {},
     "output_type": "execute_result"
    }
   ],
   "source": [
    "data_asia.shape"
   ]
  },
  {
   "cell_type": "markdown",
   "id": "09ca7b01-a7ff-45d3-9d20-9a7f4be1c27c",
   "metadata": {},
   "source": [
    "#### Get the underlying NumPy array. Let's call it X.\n",
    "\n"
   ]
  },
  {
   "cell_type": "code",
   "execution_count": 154,
   "id": "e00ceaeb-fb46-4911-a5b3-e52d49de1a00",
   "metadata": {},
   "outputs": [],
   "source": [
    "X = data_asia.to_numpy()"
   ]
  },
  {
   "cell_type": "code",
   "execution_count": 155,
   "id": "c09dcf93-0098-47d5-b9a3-caa8958c50f3",
   "metadata": {},
   "outputs": [
    {
     "data": {
      "text/plain": [
       "array([[2714.21930965, 2016.        ],\n",
       "       [2783.86897424, 2010.        ],\n",
       "       [3582.68736772, 2007.        ],\n",
       "       [2231.8081416 , 2011.        ],\n",
       "       [2659.43145076, 2016.        ],\n",
       "       [2844.22753389, 2014.        ],\n",
       "       [3761.99403819, 2019.        ]])"
      ]
     },
     "execution_count": 155,
     "metadata": {},
     "output_type": "execute_result"
    }
   ],
   "source": [
    "X"
   ]
  },
  {
   "cell_type": "markdown",
   "id": "20c979f0-7398-4453-a951-98d17e46dfd6",
   "metadata": {},
   "source": [
    "#### Compute matrix-matrix multiplication between the transpose of X and X. To get the transpose, use X.T. Let's call the result XTX.\n"
   ]
  },
  {
   "cell_type": "code",
   "execution_count": 156,
   "id": "b22d2bd4-1191-42c4-a5c5-7e7cc57a08e6",
   "metadata": {},
   "outputs": [],
   "source": [
    "XTX= np.dot(X, X.T)"
   ]
  },
  {
   "cell_type": "code",
   "execution_count": 159,
   "id": "681eee8e-07d9-418e-bb8d-d9d3184f270f",
   "metadata": {},
   "outputs": [
    {
     "data": {
      "text/plain": [
       "(array([[11431242.46085133, 11608190.92541486, 13770311.23387465,\n",
       "         10111792.75336224, 11282536.19632532, 11780081.29349753,\n",
       "         14281180.86123177],\n",
       "        [11608190.92541486, 11790026.46575708, 14007802.20739725,\n",
       "         10255171.44187306, 11455668.70489329, 11966096.78727446,\n",
       "         14531088.48421337],\n",
       "        [13770311.23387465, 14007802.20739725, 16863697.77478558,\n",
       "         12031947.83608462, 13574023.463935  , 14232076.05656009,\n",
       "         17530181.51805091],\n",
       "        [10111792.75336224, 10255171.44187306, 12031947.83608462,\n",
       "          9025088.58092514,  9989516.7638366 , 10397924.16669749,\n",
       "         12456257.9230991 ],\n",
       "        [11282536.19632532, 11455668.70489329, 13574023.463935  ,\n",
       "          9989516.7638366 , 11136831.64128077, 11624252.15672766,\n",
       "         14075069.26273247],\n",
       "        [11780081.29349753, 11966096.78727446, 14232076.05656009,\n",
       "         10397924.16669749, 11624252.15672766, 12145826.2645139 ,\n",
       "         14766233.02574041],\n",
       "        [14281180.86123177, 14531088.48421337, 17530181.51805091,\n",
       "         12456257.9230991 , 14075069.26273247, 14766233.02574041,\n",
       "         18228960.14339381]]),\n",
       " (7, 7))"
      ]
     },
     "execution_count": 159,
     "metadata": {},
     "output_type": "execute_result"
    }
   ],
   "source": [
    "XTX, XTX.shape"
   ]
  },
  {
   "cell_type": "markdown",
   "id": "22970136-a252-4317-bd9c-61f926ad97ae",
   "metadata": {},
   "source": [
    "#### Invert XTX."
   ]
  },
  {
   "cell_type": "code",
   "execution_count": 160,
   "id": "d0edce8e-1e05-406c-8c97-bc13ce9ed827",
   "metadata": {},
   "outputs": [
    {
     "data": {
      "text/plain": [
       "array([[ 6.27784782e+08,  4.52348582e+08, -5.52589667e+08,\n",
       "        -5.04518657e+08, -1.36497506e+08, -9.70745174e+07,\n",
       "         2.07769569e+08],\n",
       "       [ 6.52427761e+08,  1.18496810e+09, -8.15933475e+08,\n",
       "        -7.54720098e+08, -7.08834488e+08,  2.53306835e+08,\n",
       "         1.86771033e+08],\n",
       "       [-4.82034184e+08, -5.85397198e+08,  3.79915957e+08,\n",
       "         6.66310906e+08,  1.18051009e+08, -1.47095872e+08,\n",
       "         5.16329750e+07],\n",
       "       [-4.86725764e+08, -5.86851309e+08,  7.06448581e+08,\n",
       "         6.82137781e+08,  2.06347119e+08, -3.29606193e+08,\n",
       "        -1.88697388e+08],\n",
       "       [-2.37576087e+08, -7.37561522e+08,  2.26902495e+08,\n",
       "         2.89910408e+08,  1.50145296e+08,  3.48995157e+08,\n",
       "        -4.08718420e+07],\n",
       "       [-2.28618838e+08,  1.97697960e+08, -2.05812130e+07,\n",
       "        -2.25519129e+08,  3.60824331e+08, -2.92220029e+06,\n",
       "        -8.08263491e+07],\n",
       "       [ 1.52870693e+08,  7.43387198e+07,  7.67225188e+07,\n",
       "        -1.51179749e+08,  9.23761238e+06, -2.62872552e+07,\n",
       "        -1.35338415e+08]])"
      ]
     },
     "execution_count": 160,
     "metadata": {},
     "output_type": "execute_result"
    }
   ],
   "source": [
    "inverse_XTX = np.linalg.inv(XTX)\n",
    "inverse_XTX"
   ]
  },
  {
   "cell_type": "markdown",
   "id": "d457f1b2-0cfe-4b1d-9774-6adcca8e8417",
   "metadata": {},
   "source": [
    "#### Create an array y with values [1100, 1300, 800, 900, 1000, 1100, 1200].\n"
   ]
  },
  {
   "cell_type": "code",
   "execution_count": 161,
   "id": "20eee04e-0743-4aa1-baac-b78ed71ae587",
   "metadata": {},
   "outputs": [
    {
     "data": {
      "text/plain": [
       "array([1100, 1300,  800,  900, 1000, 1100, 1200])"
      ]
     },
     "execution_count": 161,
     "metadata": {},
     "output_type": "execute_result"
    }
   ],
   "source": [
    "\n",
    "Y= np.array([1100, 1300, 800, 900, 1000, 1100, 1200])\n",
    "Y\n"
   ]
  },
  {
   "cell_type": "code",
   "execution_count": null,
   "id": "3e04cb1b-56c1-4f33-aa13-3fd575ac2a4d",
   "metadata": {},
   "outputs": [],
   "source": []
  },
  {
   "cell_type": "markdown",
   "id": "62916a38-3142-4d6d-9e41-bb254b05d2ac",
   "metadata": {},
   "source": [
    "#### Multiply the inverse of XTX with the transpose of X, and then multiply the result by y. Call the result w.\n",
    "\n"
   ]
  },
  {
   "cell_type": "code",
   "execution_count": 162,
   "id": "bb2c85a1-3e77-4d16-a72a-817110444734",
   "metadata": {},
   "outputs": [
    {
     "data": {
      "text/plain": [
       "((7, 2), (7, 7), (7, 7))"
      ]
     },
     "execution_count": 162,
     "metadata": {},
     "output_type": "execute_result"
    }
   ],
   "source": [
    "X.shape, XTX.shape, inverse_XTX.shape"
   ]
  },
  {
   "cell_type": "code",
   "execution_count": 163,
   "id": "d9fbda14-3e87-4307-9825-7da068f215c3",
   "metadata": {},
   "outputs": [
    {
     "data": {
      "text/plain": [
       "(2, 7)"
      ]
     },
     "execution_count": 163,
     "metadata": {},
     "output_type": "execute_result"
    }
   ],
   "source": [
    "X.T.shape"
   ]
  },
  {
   "cell_type": "code",
   "execution_count": 164,
   "id": "759a0936-ce61-4b33-a97b-4aefb0c9a242",
   "metadata": {},
   "outputs": [
    {
     "data": {
      "text/plain": [
       "(2, 7)"
      ]
     },
     "execution_count": 164,
     "metadata": {},
     "output_type": "execute_result"
    }
   ],
   "source": [
    "S= np.dot(X.T, inverse_XTX)\n",
    "S\n",
    "S.shape"
   ]
  },
  {
   "cell_type": "code",
   "execution_count": 165,
   "id": "b21f6d05-5ae5-4c62-8af2-b2e427957222",
   "metadata": {},
   "outputs": [
    {
     "data": {
      "text/plain": [
       "array([[ 6.10351562e-04,  1.28173828e-03,  1.22070312e-04,\n",
       "        -1.95312500e-03, -5.34057617e-04, -1.52587891e-05,\n",
       "         4.88281250e-04],\n",
       "       [ 1.22070312e-04, -1.86157227e-03,  7.62939453e-04,\n",
       "         1.70898438e-03,  3.47137451e-04,  2.97546387e-04,\n",
       "        -6.40869141e-04]])"
      ]
     },
     "execution_count": 165,
     "metadata": {},
     "output_type": "execute_result"
    }
   ],
   "source": [
    "S"
   ]
  },
  {
   "cell_type": "code",
   "execution_count": 166,
   "id": "28f11569-3be7-40d3-afa2-7d6c713674f7",
   "metadata": {},
   "outputs": [
    {
     "data": {
      "text/plain": [
       "(7,)"
      ]
     },
     "execution_count": 166,
     "metadata": {},
     "output_type": "execute_result"
    }
   ],
   "source": [
    "Y.shape"
   ]
  },
  {
   "cell_type": "code",
   "execution_count": 167,
   "id": "3755803d-a0fb-4afe-b431-72f64b81c670",
   "metadata": {},
   "outputs": [
    {
     "data": {
      "text/plain": [
       "array([1100, 1300,  800,  900, 1000, 1100, 1200])"
      ]
     },
     "execution_count": 167,
     "metadata": {},
     "output_type": "execute_result"
    }
   ],
   "source": [
    "Y"
   ]
  },
  {
   "cell_type": "code",
   "execution_count": 168,
   "id": "a971ac14-ccbc-4057-ad92-7aeef023da50",
   "metadata": {},
   "outputs": [
    {
     "data": {
      "text/plain": [
       "(2, 7)"
      ]
     },
     "execution_count": 168,
     "metadata": {},
     "output_type": "execute_result"
    }
   ],
   "source": [
    "S.shape"
   ]
  },
  {
   "cell_type": "code",
   "execution_count": 169,
   "id": "852129a1-a8a6-4437-b427-d77a21af8ba9",
   "metadata": {},
   "outputs": [],
   "source": [
    "W = np.dot(S, Y)"
   ]
  },
  {
   "cell_type": "code",
   "execution_count": 170,
   "id": "106339d1-7d63-4667-8d40-c33889d60bcb",
   "metadata": {},
   "outputs": [
    {
     "data": {
      "text/plain": [
       "array([ 0.71258545, -0.23193359])"
      ]
     },
     "execution_count": 170,
     "metadata": {},
     "output_type": "execute_result"
    }
   ],
   "source": [
    "W"
   ]
  },
  {
   "cell_type": "markdown",
   "id": "04bd181b-4c51-45fc-b9b7-1e594e36ed16",
   "metadata": {},
   "source": [
    "#### What's the sum of all the elements of the result?"
   ]
  },
  {
   "cell_type": "code",
   "execution_count": 171,
   "id": "17cece95-8f1c-44d0-a86f-0f579fad01e4",
   "metadata": {},
   "outputs": [
    {
     "data": {
      "text/plain": [
       "np.float64(0.48065185546875)"
      ]
     },
     "execution_count": 171,
     "metadata": {},
     "output_type": "execute_result"
    }
   ],
   "source": [
    "W.sum()"
   ]
  },
  {
   "cell_type": "code",
   "execution_count": null,
   "id": "56a4321f-2232-4428-a42d-d4d5c7ae0538",
   "metadata": {},
   "outputs": [],
   "source": []
  }
 ],
 "metadata": {
  "kernelspec": {
   "display_name": "Python 3 (ipykernel)",
   "language": "python",
   "name": "python3"
  },
  "language_info": {
   "codemirror_mode": {
    "name": "ipython",
    "version": 3
   },
   "file_extension": ".py",
   "mimetype": "text/x-python",
   "name": "python",
   "nbconvert_exporter": "python",
   "pygments_lexer": "ipython3",
   "version": "3.13.7"
  }
 },
 "nbformat": 4,
 "nbformat_minor": 5
}
